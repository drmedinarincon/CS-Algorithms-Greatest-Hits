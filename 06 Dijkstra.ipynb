{
 "cells": [
  {
   "cell_type": "code",
   "execution_count": 1,
   "metadata": {},
   "outputs": [],
   "source": [
    "import networkx as nx\n",
    "\n",
    "g = nx.read_adjlist('dijkstraData.txt', create_using=nx.DiGraph())\n",
    "G = nx.DiGraph()\n",
    "for i in list(g.edges):\n",
    "    G.add_edge(int(i[0]), int(i[1].split(',')[0]), length=int(i[1].split(',')[1]))\n",
    "    \n",
    "t=[7,37,59,82,99,115,133,165,188,197]"
   ]
  },
  {
   "cell_type": "code",
   "execution_count": 2,
   "metadata": {},
   "outputs": [],
   "source": [
    "# MY CODE FOR DIJKSTRA'S ALGORITHM\n",
    "\n",
    "def dijkstra(graph,s,t):\n",
    "    # graph is the graph studied\n",
    "    # s is the starting node\n",
    "    # t is the final node\n",
    "    X={s} # Contains the vertices already visited\n",
    "    V=set(graph.nodes) # Contains the vertices not visited yet\n",
    "    V.remove(s)\n",
    "    A={} # Stores the vertices and their distance to s\n",
    "    B={} # Contains the shortest path from s to reach the vertex\n",
    "    A[s]=0\n",
    "    B[s]=[s]\n",
    "\n",
    "    while len(X)< len(list(graph.nodes())):\n",
    "        min_edge = min([x for x in list(graph.edges(data=True)) if x[0] in X and x[1] in V], key=lambda x: graph.get_edge_data(x[0], x[1])['length']+A[x[0]])\n",
    "        X.add(min_edge[1])\n",
    "        V.remove(min_edge[1])\n",
    "        B[min_edge[1]]=B[min_edge[0]]+[min_edge[1]]\n",
    "        A[min_edge[1]]=min_edge[2]['length']+A[min_edge[0]]\n",
    "\n",
    "    return (A[t],B[t])"
   ]
  },
  {
   "cell_type": "code",
   "execution_count": 3,
   "metadata": {},
   "outputs": [
    {
     "name": "stdout",
     "output_type": "stream",
     "text": [
      "(2599, [1, 114, 129, 85, 53, 7])\n",
      "(2610, [1, 145, 108, 126, 155, 37])\n",
      "(2947, [1, 92, 194, 162, 59])\n",
      "(2052, [1, 92, 134, 135, 82])\n",
      "(2367, [1, 99])\n",
      "(2399, [1, 80, 115])\n",
      "(2029, [1, 114, 129, 85, 133])\n",
      "(2442, [1, 80, 19, 187, 165])\n",
      "(2505, [1, 92, 70, 9, 72, 157, 26, 95, 196, 188])\n",
      "(3068, [1, 114, 103, 110, 197])\n"
     ]
    },
    {
     "data": {
      "text/plain": [
       "[2599, 2610, 2947, 2052, 2367, 2399, 2029, 2442, 2505, 3068]"
      ]
     },
     "execution_count": 3,
     "metadata": {},
     "output_type": "execute_result"
    }
   ],
   "source": [
    "# MY HOMEWORK ANSWERS\n",
    "\n",
    "Ans=[]\n",
    "for x in t:\n",
    "    print(dijkstra(G,1,x))\n",
    "    Ans.append(dijkstra(G,1,x)[0])\n",
    "Ans"
   ]
  },
  {
   "cell_type": "code",
   "execution_count": 4,
   "metadata": {},
   "outputs": [
    {
     "name": "stdout",
     "output_type": "stream",
     "text": [
      "(2599, [1, 114, 129, 85, 53, 7])\n",
      "(2610, [1, 145, 108, 126, 155, 37])\n",
      "(2947, [1, 92, 194, 162, 59])\n",
      "(2052, [1, 92, 134, 135, 82])\n",
      "(2367, [1, 99])\n",
      "(2399, [1, 80, 115])\n",
      "(2029, [1, 114, 129, 85, 133])\n",
      "(2442, [1, 80, 19, 187, 165])\n",
      "(2505, [1, 92, 70, 9, 72, 157, 26, 95, 196, 188])\n",
      "(3068, [1, 114, 103, 110, 197])\n"
     ]
    },
    {
     "data": {
      "text/plain": [
       "[2599, 2610, 2947, 2052, 2367, 2399, 2029, 2442, 2505, 3068]"
      ]
     },
     "execution_count": 4,
     "metadata": {},
     "output_type": "execute_result"
    }
   ],
   "source": [
    "# CHECK OF HOMEWORK WITH NETWORKX\n",
    "\n",
    "Ans=[]\n",
    "for x in t:\n",
    "    print(nx.single_source_dijkstra(G,1,x, weight='length'))\n",
    "    Ans.append(nx.single_source_dijkstra(G,1,x, weight='length')[0])\n",
    "Ans"
   ]
  }
 ],
 "metadata": {
  "kernelspec": {
   "display_name": "Python 3",
   "language": "python",
   "name": "python3"
  },
  "language_info": {
   "codemirror_mode": {
    "name": "ipython",
    "version": 3
   },
   "file_extension": ".py",
   "mimetype": "text/x-python",
   "name": "python",
   "nbconvert_exporter": "python",
   "pygments_lexer": "ipython3",
   "version": "3.7.6"
  }
 },
 "nbformat": 4,
 "nbformat_minor": 4
}
