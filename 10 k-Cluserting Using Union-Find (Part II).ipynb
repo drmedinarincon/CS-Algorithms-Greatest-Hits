{
 "cells": [
  {
   "cell_type": "code",
   "execution_count": 1,
   "metadata": {
    "scrolled": true
   },
   "outputs": [
    {
     "data": {
      "text/plain": [
       "200000"
      ]
     },
     "execution_count": 1,
     "metadata": {},
     "output_type": "execute_result"
    }
   ],
   "source": [
    "# LOADS NODE LIST FOR THE 2ND QUESTION\n",
    "\n",
    "# Reads the file and puts the binary code of each node in a list called txt. Each entry of txt is a 24-bit binary \n",
    "# string corresponding to a node.\n",
    "\n",
    "from pathlib import Path\n",
    "txt = Path('clustering_big.txt').read_text()\n",
    "txt=txt.split('\\n')\n",
    "txt.pop(0)\n",
    "txt.pop(200000)\n",
    "txt=[x.replace(' ', '') for x in txt]\n",
    "len(txt)"
   ]
  },
  {
   "cell_type": "code",
   "execution_count": 2,
   "metadata": {},
   "outputs": [
    {
     "data": {
      "text/plain": [
       "198788"
      ]
     },
     "execution_count": 2,
     "metadata": {},
     "output_type": "execute_result"
    }
   ],
   "source": [
    "# ALL UNIQUE BIT SEQUENCES\n",
    "\n",
    "# Creates a dictionary called NodeList that has for keys the integer representation of the binary code of the node.\n",
    "# The value is the 24-bit binary string of the node.\n",
    "# Notes with repeated binary strings are deleted. This correspond to Hamming distance 0 nodes.\n",
    "\n",
    "NodeList={}\n",
    "for x in txt:\n",
    "    NodeList[int(x,2)]=x\n",
    "NodeSet=set(NodeList.keys())\n",
    "len(NodeSet)"
   ]
  },
  {
   "cell_type": "code",
   "execution_count": 3,
   "metadata": {},
   "outputs": [],
   "source": [
    "# GENERATES ALL NODES A HAMMING DISTANCE 1 AWAY\n",
    "\n",
    "# For each node that is key in NodeList, all the nodes that are a Hamming distance 1 away are generated.\n",
    "# The key and values are integers corresponding to the 24-bit binary strings.\n",
    "# There are 24 nodes associated to each node in NodeList.\n",
    "\n",
    "Distance1=dict.fromkeys(NodeList.keys(),set({}))\n",
    "for x in Distance1.keys():\n",
    "    Distance1[x]=set([int(NodeList[x][:i]+str(abs(1-int(NodeList[x][i])))+NodeList[x][i+1:],2) for i in range(24)])"
   ]
  },
  {
   "cell_type": "code",
   "execution_count": 4,
   "metadata": {},
   "outputs": [],
   "source": [
    "# GENERATES ALL NODES A HAMMING DISTANCE 2 AWAY\n",
    "\n",
    "# For each node that is key in NodeList, all the nodes that are a Hamming distance 2 away are generated.\n",
    "# The key and values are integers corresponding to the 24-bit binary strings.\n",
    "# There are 276 nodes associated to each node in NodeList.\n",
    "\n",
    "Distance2=dict.fromkeys(NodeList.keys(),set({}))\n",
    "for x in Distance2.keys():\n",
    "    Distance2[x]=set([int(NodeList[x][:i]+str(abs(1-int(NodeList[x][i])))+NodeList[x][i+1:j]+str(abs(1-int(NodeList[x][j])))+NodeList[x][j+1:],2) for i in range(24) for j in range(24) if i<j])"
   ]
  },
  {
   "cell_type": "code",
   "execution_count": 6,
   "metadata": {},
   "outputs": [
    {
     "data": {
      "text/plain": [
       "6118"
      ]
     },
     "execution_count": 6,
     "metadata": {},
     "output_type": "execute_result"
    }
   ],
   "source": [
    "# THE UNION-FIND\n",
    "\n",
    "from networkx.utils.union_find import UnionFind\n",
    "\n",
    "# Creates a UnionFind data structure where each leader is a node in NodeList.\n",
    "UF=UnionFind(NodeSet)\n",
    "\n",
    "# We now proceed to check which of the nodes in Distance1 and Distance2 are in the list of nodes of NodeList.\n",
    "# If such nodes are in NodeList, they are then united in the UnionFind structure.\n",
    "# This is done first for the Distance1 cases, and then for the Distance2 cases.\n",
    "\n",
    "# The nodes that are a Hamming distance of 1 are fused in the UnionFind structure.\n",
    "for i in Distance1.keys():\n",
    "    for j in Distance1[i]:\n",
    "        if j in NodeSet:\n",
    "            UF.union(i,j)\n",
    "            \n",
    "# The nodes that are a Hamming distance of 1 are fused in the UnionFind structure.     \n",
    "for i in Distance2.keys():\n",
    "    for j in Distance2[i]:\n",
    "        if j in NodeSet:\n",
    "            UF.union(i,j)\n",
    "\n",
    "# Returns the final answer: The number of cluster such that there is a Hamming distance of 3 or larger between nodes.\n",
    "len(list(UF.to_sets()))"
   ]
  },
  {
   "cell_type": "code",
   "execution_count": null,
   "metadata": {},
   "outputs": [],
   "source": []
  }
 ],
 "metadata": {
  "kernelspec": {
   "display_name": "Python 3",
   "language": "python",
   "name": "python3"
  },
  "language_info": {
   "codemirror_mode": {
    "name": "ipython",
    "version": 3
   },
   "file_extension": ".py",
   "mimetype": "text/x-python",
   "name": "python",
   "nbconvert_exporter": "python",
   "pygments_lexer": "ipython3",
   "version": "3.7.6"
  }
 },
 "nbformat": 4,
 "nbformat_minor": 4
}
