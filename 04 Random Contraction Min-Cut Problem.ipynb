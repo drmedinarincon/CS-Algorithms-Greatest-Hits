{
 "cells": [
  {
   "cell_type": "code",
   "execution_count": 1,
   "metadata": {},
   "outputs": [],
   "source": [
    "import networkx as nx\n",
    "import random\n",
    "\n",
    "def Contract(G,reps):\n",
    "    # This function implements a randomized contraction algorithm for the Min-Cut problem and applies it to the \n",
    "    # graph 'G' to compute the Min-Cut.\n",
    "    \n",
    "    # INPUT: A graph 'G' from the networkx library. 'reps' is the number of times the randomized algorithm is ran.\n",
    "    # The higher the value of 'reps', the more exact the result, but also the longer it takes to compute a result.\n",
    "    \n",
    "    # OUTPUT: Returns the Min-Cut obtained after the randomized algorithm is ran 'reps' times. This is an integer.\n",
    "    \n",
    "    Min=[] #This list keeps track of the Min-Cut for each inialization. \n",
    "    # The final result is the minimun value of this list.\n",
    "    \n",
    "    for i in range(reps): # This loop takes care of initizaling the random algorithm 'reps' amount of times.\n",
    "        graph=nx.MultiGraph()\n",
    "        graph.add_edges_from(G.edges())\n",
    "        while len(list(graph.nodes))>2:\n",
    "            Nodes_to_contract=random.choice(list(graph.edges))\n",
    "            graph=nx.contracted_nodes(graph,Nodes_to_contract[0],Nodes_to_contract[1],self_loops=False)    \n",
    "        \n",
    "        Min.append(len(list(graph.edges))) # Appends the min-cut from each pass to the Min list.\n",
    "    return min(Min)"
   ]
  },
  {
   "cell_type": "code",
   "execution_count": 2,
   "metadata": {},
   "outputs": [
    {
     "name": "stdout",
     "output_type": "stream",
     "text": [
      "31\n",
      "20\n",
      "17\n",
      "17\n"
     ]
    }
   ],
   "source": [
    "# IMPORT GRAPH FROM ADJACENCY LIST .TXT TO A NETWORKX GRAPH\n",
    "\n",
    "# The file 'kargerMinCut.txt' contains the adjacency list of a simple undirected graph. This graph has 200 vertices\n",
    "# labeled from 1 to 200.  The first column in the .txt file represents the vertex label, and the particular row \n",
    "# (other entries except the first column) tells all the vertices that the vertex is adjacent to. For example, the \n",
    "# 6th row looks like : \"6   155 56 52 120...\". This means that the vertex with label 6 is adjacent to the vertices\n",
    "# with labels 155,56,52,120,...,etc.\n",
    "G_Ex = nx.read_adjlist('kargerMinCut.txt', nodetype=int) \n",
    "# The line above reads the Adjacency List contained in the .txt file and constructs a networkx graph out of it.\n",
    "# 'nodetype=int' above makes sure that node labels are read as integers instead of strings.\n",
    "\n",
    "# APPLYING THE 'Contract' FUNCTION TO THE GRAPH 'G_Ex'\n",
    "\n",
    "print(Contract(G_Ex,1))\n",
    "print(Contract(G_Ex,10))\n",
    "print(Contract(G_Ex,100))\n",
    "print(Contract(G_Ex,1000)) # This one takes a long time to run."
   ]
  }
 ],
 "metadata": {
  "kernelspec": {
   "display_name": "Python 3",
   "language": "python",
   "name": "python3"
  },
  "language_info": {
   "codemirror_mode": {
    "name": "ipython",
    "version": 3
   },
   "file_extension": ".py",
   "mimetype": "text/x-python",
   "name": "python",
   "nbconvert_exporter": "python",
   "pygments_lexer": "ipython3",
   "version": "3.7.6"
  }
 },
 "nbformat": 4,
 "nbformat_minor": 4
}
