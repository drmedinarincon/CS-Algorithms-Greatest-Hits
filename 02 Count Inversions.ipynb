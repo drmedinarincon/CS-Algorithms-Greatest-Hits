{
 "cells": [
  {
   "cell_type": "code",
   "execution_count": 1,
   "metadata": {},
   "outputs": [],
   "source": [
    "import numpy as np\n",
    "\n",
    "def CountInv(array):\n",
    "    Count=0\n",
    "    \n",
    "    if len(array)==1:\n",
    "        return 0\n",
    "    \n",
    "    n=len(array)\n",
    "    b=array[:int(n/2)]\n",
    "    c=array[int(n/2):]\n",
    "    \n",
    "    B=np.sort(b)\n",
    "    C=np.sort(c)\n",
    "    i=0\n",
    "    j=0\n",
    "    D=[]\n",
    "    Count=0\n",
    "    for k in range(n):\n",
    "        if i<len(B) and j<len(C):\n",
    "            if B[i]<C[j]:\n",
    "                D=D+[B[i]]\n",
    "                #print(\"1) \"+str(D))\n",
    "                i+=1\n",
    "            else:\n",
    "                D=D+[C[j]]\n",
    "                #print(\"2) \"+str(D))\n",
    "                j+=1\n",
    "                Count+=len(B)-i\n",
    "        if i==len(B) and j<len(C):\n",
    "            D=D+[C[j]]\n",
    "            #print(\"3) \"+str(D))\n",
    "            j+=1\n",
    "        if j==len(C) and i<len(B):\n",
    "            D=D+[B[i]]\n",
    "            #print(\"4) \"+str(D))\n",
    "            i+=1\n",
    "\n",
    "    return Count+CountInv(b)+CountInv(c)"
   ]
  },
  {
   "cell_type": "code",
   "execution_count": 2,
   "metadata": {},
   "outputs": [
    {
     "name": "stdout",
     "output_type": "stream",
     "text": [
      "3 1) 3\n",
      "4 2) 4\n",
      "10 3) 10\n",
      "5 4) 5\n",
      "56 5) 56\n",
      "590 6) 590\n",
      "2372 7) 2372\n"
     ]
    }
   ],
   "source": [
    "# CHECKS\n",
    "print(str(CountInv([1,3,5,2,4,6]))+' 1) 3')\n",
    "print(str(CountInv([1,5,3,2,4]))+' 2) 4')\n",
    "print(str(CountInv([5,4,3,2,1]))+' 3) 10')\n",
    "print(str(CountInv([1,6,3,2,4,5]))+' 4) 5')\n",
    "print(str(CountInv([ 9, 12, 3, 1, 6, 8, 2, 5, 14, 13, 11, 7, 10, 4, 0]))+' 5) 56')\n",
    "print(str(CountInv([37, 7, 2, 14, 35, 47, 10, 24, 44, 17, 34, 11, 16, 48, 1, 39, 6, 33, 43, 26, 40, 4, 28, 5, 38, 41, 42, 12, 13, 21, 29, 18, 3, 19, 0, 32, 46, 27, 31, 25, 15, 36, 20, 8, 9, 49, 22, 23, 30, 45]))+' 6) 590')\n",
    "print(str(CountInv([4, 80, 70, 23, 9, 60, 68, 27, 66, 78, 12, 40, 52, 53, 44, 8, 49, 28, 18, 46, 21, 39, 51, 7, 87, 99, 69, 62, 84, 6, 79, 67, 14, 98, 83, 0, 96, 5, 82, 10, 26, 48, 3, 2, 15, 92, 11, 55, 63, 97, 43, 45, 81, 42, 95, 20, 25, 74, 24, 72, 91, 35, 86, 19, 75, 58, 71, 47, 76, 59, 64, 93, 17, 50, 56, 94, 90, 89, 32, 37, 34, 65, 1, 73, 41, 36, 57, 77, 30, 22, 13, 29, 38, 16, 88, 61, 31, 85, 33, 54]))+' 7) 2372')"
   ]
  },
  {
   "cell_type": "code",
   "execution_count": 3,
   "metadata": {},
   "outputs": [
    {
     "data": {
      "text/plain": [
       "2407905288"
      ]
     },
     "execution_count": 3,
     "metadata": {},
     "output_type": "execute_result"
    }
   ],
   "source": [
    "with open('IntegerArray.txt') as f:\n",
    "    lines = f.readlines()\n",
    "Array = [int(string) for string in lines]\n",
    "CountInv(Array)"
   ]
  }
 ],
 "metadata": {
  "kernelspec": {
   "display_name": "Python 3",
   "language": "python",
   "name": "python3"
  },
  "language_info": {
   "codemirror_mode": {
    "name": "ipython",
    "version": 3
   },
   "file_extension": ".py",
   "mimetype": "text/x-python",
   "name": "python",
   "nbconvert_exporter": "python",
   "pygments_lexer": "ipython3",
   "version": "3.7.6"
  }
 },
 "nbformat": 4,
 "nbformat_minor": 4
}
