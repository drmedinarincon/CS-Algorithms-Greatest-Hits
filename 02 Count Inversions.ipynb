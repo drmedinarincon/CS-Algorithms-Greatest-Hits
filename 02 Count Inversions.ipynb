{
 "cells": [
  {
   "cell_type": "code",
   "execution_count": 1,
   "metadata": {},
   "outputs": [],
   "source": [
    "import numpy as np\n",
    "\n",
    "def CountInv(array):\n",
    "    # This function counts the number of \"inversions\" needed for an array to reach its \"sorted stated\".\n",
    "    # An \"inversion\" is understood as a swaping of adjacent entries in the array. For example [...,a,b,...] \n",
    "    # and [...,b,a,...] are 1 inversion away from each other.\n",
    "    # In the \"sorted state\" the entries of the array are arranged from left to right in increasing order.\n",
    "    # This algorithm follows a \"divide and conquer\" strategy where recursively the function calls itself 2 times\n",
    "    # at each step. The recursion stops once the arrays are of length 1, which is the base case.\n",
    "    \n",
    "    # EXAMPLE: It takes 3 invertions to take [3,2,1] to [1,2,3].\n",
    "    \n",
    "    # INPUT: A python list with integers in it's entries\n",
    "    # OUTPUT: An integer counting the number of inversions required to reach it's sorted state.\n",
    "    \n",
    "    # Case of list length = 1:\n",
    "    if len(array)==1:\n",
    "        return 0\n",
    "    \n",
    "    # Cse of list length > 1:\n",
    "    n=len(array)\n",
    "    b=array[:int(n/2)]\n",
    "    c=array[int(n/2):]\n",
    "    \n",
    "    B=np.sort(b)\n",
    "    C=np.sort(c)\n",
    "    i=0\n",
    "    j=0\n",
    "    D=[]\n",
    "    Count=0\n",
    "    for k in range(n):\n",
    "        if i<len(B) and j<len(C):\n",
    "            if B[i]<C[j]:\n",
    "                D=D+[B[i]]\n",
    "                #print(\"1) \"+str(D))\n",
    "                i+=1\n",
    "            else:\n",
    "                D=D+[C[j]]\n",
    "                #print(\"2) \"+str(D))\n",
    "                j+=1\n",
    "                Count+=len(B)-i\n",
    "        if i==len(B) and j<len(C):\n",
    "            D=D+[C[j]]\n",
    "            #print(\"3) \"+str(D))\n",
    "            j+=1\n",
    "        if j==len(C) and i<len(B):\n",
    "            D=D+[B[i]]\n",
    "            #print(\"4) \"+str(D))\n",
    "            i+=1\n",
    "\n",
    "    return Count+CountInv(b)+CountInv(c)"
   ]
  },
  {
   "cell_type": "code",
   "execution_count": 2,
   "metadata": {},
   "outputs": [
    {
     "data": {
      "text/plain": [
       "2407905288"
      ]
     },
     "execution_count": 2,
     "metadata": {},
     "output_type": "execute_result"
    }
   ],
   "source": [
    "# APPLYING IT TO A VERY LONG INPUT ARRAY (100'000 ENTRIES)\n",
    "\n",
    "with open('IntegerArray.txt') as f:\n",
    "    lines = f.readlines()\n",
    "Array = [int(string) for string in lines]\n",
    "CountInv(Array)"
   ]
  }
 ],
 "metadata": {
  "kernelspec": {
   "display_name": "Python 3",
   "language": "python",
   "name": "python3"
  },
  "language_info": {
   "codemirror_mode": {
    "name": "ipython",
    "version": 3
   },
   "file_extension": ".py",
   "mimetype": "text/x-python",
   "name": "python",
   "nbconvert_exporter": "python",
   "pygments_lexer": "ipython3",
   "version": "3.7.6"
  }
 },
 "nbformat": 4,
 "nbformat_minor": 4
}
