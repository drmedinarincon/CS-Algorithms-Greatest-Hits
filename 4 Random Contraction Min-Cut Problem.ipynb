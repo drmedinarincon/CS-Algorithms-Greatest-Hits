{
 "cells": [
  {
   "cell_type": "code",
   "execution_count": 1,
   "metadata": {},
   "outputs": [],
   "source": [
    "import networkx as nx\n",
    "import random\n",
    "\n",
    "G_Ex = nx.read_adjlist('kargerMinCut.txt', nodetype=int) # This reads the Adjacency List contained in this .txt file\n",
    "# nodetype=int above makes sure that nodes are read as integers instead of strings\n",
    "\n",
    "def Contract(G,reps):\n",
    "    Min=[]\n",
    "    for i in range(reps):\n",
    "        graph=nx.MultiGraph()\n",
    "        graph.add_edges_from(G.edges())\n",
    "        while len(list(graph.nodes))>2:\n",
    "            Nodes_to_contract=random.choice(list(graph.edges))\n",
    "            graph=nx.contracted_nodes(graph,Nodes_to_contract[0],Nodes_to_contract[1],self_loops=False)    \n",
    "        \n",
    "        Min.append(len(list(graph.edges)))\n",
    "    return min(Min)"
   ]
  },
  {
   "cell_type": "code",
   "execution_count": 2,
   "metadata": {},
   "outputs": [
    {
     "name": "stdout",
     "output_type": "stream",
     "text": [
      "27\n",
      "20\n",
      "17\n",
      "17\n"
     ]
    }
   ],
   "source": [
    "print(Contract(G_Ex,1))\n",
    "print(Contract(G_Ex,10))\n",
    "print(Contract(G_Ex,100))\n",
    "print(Contract(G_Ex,1000))"
   ]
  }
 ],
 "metadata": {
  "kernelspec": {
   "display_name": "Python 3",
   "language": "python",
   "name": "python3"
  },
  "language_info": {
   "codemirror_mode": {
    "name": "ipython",
    "version": 3
   },
   "file_extension": ".py",
   "mimetype": "text/x-python",
   "name": "python",
   "nbconvert_exporter": "python",
   "pygments_lexer": "ipython3",
   "version": "3.7.6"
  }
 },
 "nbformat": 4,
 "nbformat_minor": 4
}
