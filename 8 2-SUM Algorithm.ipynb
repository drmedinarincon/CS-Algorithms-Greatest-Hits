{
 "cells": [
  {
   "cell_type": "code",
   "execution_count": 1,
   "metadata": {},
   "outputs": [
    {
     "data": {
      "text/plain": [
       "array([ 68037543430, -21123414637,  56619844751, ..., -40404433171,\n",
       "        88675191155, -60012933873])"
      ]
     },
     "execution_count": 1,
     "metadata": {},
     "output_type": "execute_result"
    }
   ],
   "source": [
    "import timeit\n",
    "\n",
    "from numpy import loadtxt\n",
    "Ex = loadtxt(\"algo1-programming_prob-2sum.txt\", comments=\"#\", delimiter=\" \", unpack=False,dtype=int)\n",
    "len(Ex)\n",
    "Ex"
   ]
  },
  {
   "cell_type": "code",
   "execution_count": 2,
   "metadata": {},
   "outputs": [
    {
     "name": "stdout",
     "output_type": "stream",
     "text": [
      "427\n",
      "-0.018745817998951253\n"
     ]
    }
   ],
   "source": [
    "# ALGORITHM PROPOSED IN THE LECTURES\n",
    "\n",
    "def two_sum_problem(array):\n",
    "    Dic = dict.fromkeys(array) # Stores all values in the input list as a dictionary\n",
    "    t_values={} # Stores as key in a dictionay all the valid t obtained as 2-sum that are in the [-10000,10000] interval \n",
    "\n",
    "    for t in range(-10000,10001):\n",
    "        for x in Dic.keys():\n",
    "            if t-x in Dic and t-x!=x:\n",
    "                t_values[t]=None\n",
    "    return len(t_values.keys())\n",
    "\n",
    "start = timeit.timeit()\n",
    "print(two_sum_problem(Ex))\n",
    "end = timeit.timeit()\n",
    "print(end - start)"
   ]
  },
  {
   "cell_type": "code",
   "execution_count": null,
   "metadata": {},
   "outputs": [],
   "source": [
    "# BRUTE FORCE RUNNING O(n^2)\n",
    "# This takes a long time, specially for n>10000\n",
    "\n",
    "def two_sum_problem_n2(array):\n",
    "\n",
    "    keys=range(-10000,10001)\n",
    "    Dic = dict.fromkeys(keys,0) #This dictionary has as keys all the possible t's with value 1 if there is a pair in the array that can add up to it. If not, the value assigned is 0.\n",
    "\n",
    "    for x in array:\n",
    "        for y in array:\n",
    "            if (x+y in Dic) and (Dic[x+y]==0) and x!=y:\n",
    "                Dic[x+y]=1 \n",
    "\n",
    "    return sum(Dic.values())\n",
    "\n",
    "start = timeit.timeit()\n",
    "print(two_sum_problem_n2(Ex))\n",
    "end = timeit.timeit()\n",
    "print(end - start)"
   ]
  },
  {
   "cell_type": "code",
   "execution_count": null,
   "metadata": {},
   "outputs": [],
   "source": [
    "import AppKit\n",
    "AppKit.NSBeep()"
   ]
  },
  {
   "cell_type": "code",
   "execution_count": null,
   "metadata": {},
   "outputs": [],
   "source": [
    "list(filter(lambda x: x>avg,data))"
   ]
  }
 ],
 "metadata": {
  "kernelspec": {
   "display_name": "Python 3",
   "language": "python",
   "name": "python3"
  },
  "language_info": {
   "codemirror_mode": {
    "name": "ipython",
    "version": 3
   },
   "file_extension": ".py",
   "mimetype": "text/x-python",
   "name": "python",
   "nbconvert_exporter": "python",
   "pygments_lexer": "ipython3",
   "version": "3.7.6"
  }
 },
 "nbformat": 4,
 "nbformat_minor": 4
}
