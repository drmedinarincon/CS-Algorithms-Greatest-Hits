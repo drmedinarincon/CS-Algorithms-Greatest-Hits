{
 "cells": [
  {
   "cell_type": "code",
   "execution_count": 1,
   "metadata": {},
   "outputs": [
    {
     "name": "stdout",
     "output_type": "stream",
     "text": [
      "1000\n"
     ]
    }
   ],
   "source": [
    "# The file's content is loaded into a list called List where the positions indicated the vertices and the contents \n",
    "# are the weight of the vertices.\n",
    "\n",
    "from pathlib import Path\n",
    "List= Path('mwis.txt').read_text()\n",
    "List=List.split('\\n')\n",
    "List.pop(0)\n",
    "List.pop(1000)\n",
    "List=[int(x) for x in List]\n",
    "print(len(List))\n",
    "\n",
    "Question=[1, 2, 3, 4, 17, 117, 517, 997]"
   ]
  },
  {
   "cell_type": "code",
   "execution_count": 2,
   "metadata": {},
   "outputs": [],
   "source": [
    "def Weighted_Independent_Sets(list):\n",
    "# This function compute the Weighted Independent Sets.\n",
    "\n",
    "# INPUT: A list where each entry is the weight of the corresponding vertex.\n",
    "# OUPUT: A set containing the maximum-weight independent set for the list\n",
    "\n",
    "# n is the lenght of the list, while S stores the maimun-weight independent set.\n",
    "    n=len(list)\n",
    "    S=set({})\n",
    "\n",
    "    # The dictionary w has the weights. The key is the vertex label [1,n] and the value is the weight\n",
    "    w={}\n",
    "    for x in range(1,n+1):\n",
    "        w[x]=list[x-1]\n",
    "\n",
    "    # The algorithm is applied directly\n",
    "    A={}\n",
    "    A[-1]=0\n",
    "    A[0]=0\n",
    "    A[1]=w[1]\n",
    "    for i in range(2,n+1):\n",
    "        A[i]=max(A[i-1],A[i-2]+w[i])\n",
    "    \n",
    "    # The reconstruction algorithm is implemente to reconstruct the maximum-weight independent set out of the A's\n",
    "    i=n\n",
    "    while i>=1:\n",
    "        if A[i-1]>=A[i-2]+w[i]:\n",
    "            i-=1\n",
    "        else:\n",
    "            S.update({i})\n",
    "            i-=2\n",
    "\n",
    "    return S"
   ]
  },
  {
   "cell_type": "code",
   "execution_count": 3,
   "metadata": {},
   "outputs": [
    {
     "name": "stdout",
     "output_type": "stream",
     "text": [
      "10100110\n"
     ]
    }
   ],
   "source": [
    "# The function above is applied to the input file. 1 is assigned if the vertex is in the the maximum-weight \n",
    "# independent set, and 0 otherwise.\n",
    "\n",
    "WIS=Weighted_Independent_Sets(List)\n",
    "Final_Answer=''\n",
    "for i in Question:\n",
    "    if i in WIS:\n",
    "        Final_Answer+='1'\n",
    "    else:\n",
    "        Final_Answer+='0'\n",
    "print(Final_Answer)"
   ]
  }
 ],
 "metadata": {
  "kernelspec": {
   "display_name": "Python 3",
   "language": "python",
   "name": "python3"
  },
  "language_info": {
   "codemirror_mode": {
    "name": "ipython",
    "version": 3
   },
   "file_extension": ".py",
   "mimetype": "text/x-python",
   "name": "python",
   "nbconvert_exporter": "python",
   "pygments_lexer": "ipython3",
   "version": "3.7.6"
  }
 },
 "nbformat": 4,
 "nbformat_minor": 4
}
