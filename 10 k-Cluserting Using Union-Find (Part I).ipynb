{
 "cells": [
  {
   "cell_type": "code",
   "execution_count": 1,
   "metadata": {},
   "outputs": [
    {
     "name": "stdout",
     "output_type": "stream",
     "text": [
      "Edges: 124750\n",
      "Nodes: 500\n",
      "----------------------------------------\n",
      "Nodes: 1000\n"
     ]
    }
   ],
   "source": [
    "import networkx as nx\n",
    "\n",
    "# LOADS GRAPH FOR THE 1ST QUESTION\n",
    "\n",
    "G = nx.read_weighted_edgelist('clustering1.txt',nodetype=int)\n",
    "\n",
    "print('Edges: '+str(len(G.edges(data=True))))\n",
    "print('Nodes: '+str(len(G.nodes(data=True))))\n",
    "\n",
    "print(\"----------------------------------------\")\n",
    "\n",
    "# LOADS NODE LIST FOR THE 2ND QUESTION\n",
    "\n",
    "a_file = open(\"clustering_big.txt\", \"r\")\n",
    "#a_file = open(\"input_random_72_16384_24.txt\", \"r\")\n",
    "NodeList = [(line.strip()).split() for line in a_file]\n",
    "a_file.close()\n",
    "NodeList.pop(0)\n",
    "NodeList=[ list(map(int, x)) for x in NodeList]\n",
    "NodeList=NodeList[:1000]\n",
    "NodeList=dict(zip(range(len(NodeList)),NodeList))\n",
    "print(\"Nodes: \"+str(len(NodeList.keys())))"
   ]
  },
  {
   "cell_type": "code",
   "execution_count": 2,
   "metadata": {},
   "outputs": [],
   "source": [
    "# USEFUL FUNCTIONS FOR THE 1ST QUESTION \n",
    "\n",
    "def UnionFind_Initialize1(graph): \n",
    "    # This functions initializes the Union-Find structure of a given graph. Each node is a leader.\n",
    "    # INPUT: Graph\n",
    "    # OUTPUT: A dictionary with a key for each node. Each node is a \"leader\" and each value in the dictionary is a set composed of only the leader node.\n",
    "    Dic={}\n",
    "    for x in graph.nodes():\n",
    "        Dic[x]=set([x])\n",
    "    return Dic\n",
    "\n",
    "def UnionFind_Fuse1(dic,leader1,leader2):\n",
    "    #This function merges in a Union-Find two different leaders\n",
    "    # INPUT: a dictionary describing the Union-Find and the two leaders to be merged.\n",
    "    # OUTPUT: a dictionary with the update Union-Find\n",
    "    if len(dic[leader2])>len(dic[leader1]):\n",
    "        dic[leader2].update(dic[leader1])\n",
    "        dic.pop(leader1)\n",
    "    else:\n",
    "        dic[leader1].update(dic[leader2])\n",
    "        dic.pop(leader2)\n",
    "    return dic\n",
    "\n",
    "def Closest_Pair_Separated_Points1(dic,graph):\n",
    "    # This function returns the shortest edge with nodes at different leaders of the Union-Find\n",
    "    # INPUT: A graph and a dictionary describing the current state of the Union-Find\n",
    "    # RETURNS: The shortest edge whose nodes are at different leaders of the Union-Find\n",
    "    lista=[]\n",
    "    for i in dic.keys():\n",
    "        temp=min([x for x in graph.edges(dic[i],data=True) if ((x[0] in dic[i] and x[1] not in dic[i]) or (x[0] not in dic[i] and x[1] in dic[i]))],key=lambda x: x[2]['weight'])\n",
    "        lista.append(temp)\n",
    "    return min(lista,key=lambda x: x[2]['weight'])\n",
    "\n",
    "def Find_Leaders1(edge,dic):\n",
    "    # Given an edge, this function finds the leaders in the Union-Find\n",
    "    # INPUT: The edge with the nodes and the current Union-Find structure\n",
    "    # OUTPUT: A list with the leaders\n",
    "    Leaders=[]\n",
    "    for x in dic.keys():\n",
    "        if (edge[0] in dic[x]) or (edge[1] in dic[x]):\n",
    "            Leaders.append(x)\n",
    "    return Leaders"
   ]
  },
  {
   "cell_type": "code",
   "execution_count": 3,
   "metadata": {},
   "outputs": [
    {
     "data": {
      "text/plain": [
       "106"
      ]
     },
     "execution_count": 3,
     "metadata": {},
     "output_type": "execute_result"
    }
   ],
   "source": [
    "# K-CLUSTERING - 1ST QUESTION\n",
    "\n",
    "def kClustering_Maximun_Spacing(k,Graph):\n",
    "    # This function finds the maximun spacing after doing the k-clustering algorithm.\n",
    "    # INPUT: Number of clusters k and the Graph\n",
    "    # OUTPUT: Maximun spacing after doinf the k-clustering algorithm\n",
    "    UnionFind=UnionFind_Initialize1(Graph)\n",
    "\n",
    "    while len(UnionFind.keys())>k:\n",
    "        Edge=Closest_Pair_Separated_Points1(UnionFind,Graph)\n",
    "        Leaders=Find_Leaders1(Edge,UnionFind)\n",
    "        UnionFind=UnionFind_Fuse1(UnionFind,Leaders[0],Leaders[1])\n",
    "\n",
    "    return int(Closest_Pair_Separated_Points1(UnionFind,Graph)[2]['weight'])\n",
    "\n",
    "kClustering_Maximun_Spacing(4,G)"
   ]
  },
  {
   "cell_type": "code",
   "execution_count": 4,
   "metadata": {},
   "outputs": [],
   "source": [
    "# USEFUL FUNCTIONS FOR THE 2ND QUESTION\n",
    "\n",
    "from scipy.spatial import distance\n",
    "\n",
    "def UnionFind_Initialize2(lista): \n",
    "    # This functions initializes the Union-Find structure for the node list. Each node is a leader.\n",
    "    # INPUT: Node list\n",
    "    # OUTPUT: A dictionary with a key for each node. Each node is a \"leader\" and each value in the dictionary is a set composed of only the leader node.\n",
    "    Dic={}\n",
    "    for x in range(len(lista.keys())):\n",
    "        Dic[x]={x}\n",
    "    return Dic\n",
    "\n",
    "def UnionFind_Fuse2(dic,leader1,leader2):\n",
    "    #This function merges in a Union-Find two different leaders\n",
    "    # INPUT: a dictionary describing the Union-Find and the two leaders to be merged.\n",
    "    # OUTPUT: a dictionary with the update Union-Find\n",
    "    if len(dic[leader2])>len(dic[leader1]):\n",
    "        dic[leader2].update(dic[leader1])\n",
    "        dic.pop(leader1)\n",
    "    else:\n",
    "        dic[leader1].update(dic[leader2])\n",
    "        dic.pop(leader2)\n",
    "    return dic\n",
    "\n",
    "def Closest_Pair_List(union_find,node_list,distancia_cutoff):\n",
    "    # This function returns the shortest connection between nodes with nodes at different leaders of the Union-Find\n",
    "    # INPUT: A node_list dictionary describing the network and a dictionary describing the current state of the Union-Find\n",
    "    # RETURNS: The shortest Hamman connection between nodes whose at different leaders of the Union-Find. The format is (node1,node2,Hamman distance)\n",
    "    m=len(node_list[0])\n",
    "    Lista=[]\n",
    "    for i,j in [(i,j) for i in union_find.keys() for j in union_find.keys() if abs(sum(node_list[j])-sum(node_list[i]))<distancia_cutoff and i<j]:\n",
    "        Lista+=[(x,y,distance.hamming(node_list[x],node_list[y])*24) for x in union_find[i] for y in union_find[j] if distance.hamming(node_list[x],node_list[y])*m<distancia_cutoff]\n",
    "    return sorted(Lista,key= lambda x: x[2])\n",
    "\n",
    "def Find_Leaders2(edge,dic):\n",
    "    # Given an edge, this function finds the leaders in the Union-Find\n",
    "    # INPUT: The edge with the nodes and the current Union-Find structure\n",
    "    # OUTPUT: A list with the leaders\n",
    "    Leaders=[]\n",
    "    for x in dic.keys():\n",
    "        if (edge[0] in dic[x]) or (edge[1] in dic[x]):\n",
    "            Leaders.append(x)\n",
    "    return Leaders"
   ]
  },
  {
   "cell_type": "code",
   "execution_count": 5,
   "metadata": {},
   "outputs": [
    {
     "name": "stdout",
     "output_type": "stream",
     "text": [
      "989\n",
      "12.652002096176147\n"
     ]
    }
   ],
   "source": [
    "# K-CLUSTERING V1 - 2ND QUESTION (USING MY UNION-FIND IMPLEMENTATION)\n",
    "\n",
    "# This function finds the maximun k for which a certain Hamman distance is reached in the k-Clustering algorithm\n",
    "# INPUT: A dictionary containing the list of nodes and the cutoff Hamman distance value required for stopping the algorithm\n",
    "# OUTPUT: Returns k, the number of clusters or leaders required to reach this value\n",
    "\n",
    "def kClustering_Findingkv1(node_list,Distance_Cutoff):\n",
    "\n",
    "    UnionFind=UnionFind_Initialize2(node_list)\n",
    "    To_Do=Closest_Pair_List(UnionFind,node_list,Distance_Cutoff)\n",
    "    #print(To_Do)\n",
    "    for x in To_Do:\n",
    "        Leaders=Find_Leaders2(x,UnionFind)\n",
    "        if len(Leaders)==2:\n",
    "            UnionFind=UnionFind_Fuse2(UnionFind,Leaders[0],Leaders[1])\n",
    "    return len(UnionFind.keys())\n",
    "\n",
    "#----------------------------------------\n",
    "import time\n",
    "start_time = time.time()\n",
    "print(kClustering_Findingkv1(NodeList,3))\n",
    "print(time.time() - start_time)"
   ]
  },
  {
   "cell_type": "code",
   "execution_count": 6,
   "metadata": {},
   "outputs": [
    {
     "name": "stdout",
     "output_type": "stream",
     "text": [
      "989\n",
      "10.186846017837524\n"
     ]
    }
   ],
   "source": [
    "# K-CLUSTERING V2 - 2ND QUESTION (USING NETWORKX'S UNION-FIND)\n",
    "\n",
    "# This function finds the maximun k for which a certain Hamman distance is reached in the k-Clustering algorithm\n",
    "# INPUT: A dictionary containing the list of nodes and the cutoff Hamman distance value required for stopping the algorithm\n",
    "# OUTPUT: Returns k, the number of clusters or leaders required to reach this value\n",
    "\n",
    "from networkx.utils.union_find import UnionFind\n",
    "from scipy.spatial import distance\n",
    "\n",
    "def kClustering_Findingkv2(node_list,Distance_Cutoff):\n",
    "    nnodes=len(node_list.keys())\n",
    "    nbits=len(node_list[0])\n",
    "    \n",
    "    Union_Find=UnionFind(node_list.keys()) # Initializes Union_Find\n",
    "    \n",
    "    for Distance in range(Distance_Cutoff,Distance_Cutoff+1):\n",
    "        \n",
    "        Leaders_List=set([Union_Find[x] for x in Union_Find]) # Obtains the leaders of Union_Find\n",
    "    \n",
    "        for i,j in [(i,j) for i in Leaders_List for j in Leaders_List if (i<j and abs(sum(node_list[i])-sum(node_list[j]))<Distance)]:\n",
    "            temp_distance=nbits*distance.hamming(node_list[i],node_list[j])\n",
    "            if temp_distance<Distance:\n",
    "                #print((i,j,temp_distance))\n",
    "                Union_Find.union(i,j)\n",
    "                \n",
    "    return len(list(Union_Find.to_sets()))\n",
    "\n",
    "#----------------------------------------\n",
    "import time\n",
    "start_time = time.time()\n",
    "print(kClustering_Findingkv2(NodeList,3))\n",
    "print(time.time() - start_time)"
   ]
  },
  {
   "cell_type": "code",
   "execution_count": null,
   "metadata": {},
   "outputs": [],
   "source": []
  }
 ],
 "metadata": {
  "kernelspec": {
   "display_name": "Python 3",
   "language": "python",
   "name": "python3"
  },
  "language_info": {
   "codemirror_mode": {
    "name": "ipython",
    "version": 3
   },
   "file_extension": ".py",
   "mimetype": "text/x-python",
   "name": "python",
   "nbconvert_exporter": "python",
   "pygments_lexer": "ipython3",
   "version": "3.7.6"
  }
 },
 "nbformat": 4,
 "nbformat_minor": 4
}
