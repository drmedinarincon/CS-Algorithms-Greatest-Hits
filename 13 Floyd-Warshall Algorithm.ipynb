{
 "cells": [
  {
   "cell_type": "code",
   "execution_count": 1,
   "metadata": {},
   "outputs": [
    {
     "name": "stdout",
     "output_type": "stream",
     "text": [
      "Nodes: 1000  Edges: 47978\n",
      "Nodes: 1000  Edges: 47978\n",
      "Nodes: 1000  Edges: 47978\n"
     ]
    }
   ],
   "source": [
    "import networkx as nx\n",
    "\n",
    "# The 3 files are loaded into the graphs G1, G2 and G3 in networkx\n",
    "\n",
    "G1 =nx.read_edgelist(\"g1.txt\", nodetype=int, data=((\"length\", float),),create_using=nx.DiGraph)\n",
    "G1.remove_edge(1000,47978)\n",
    "G1.remove_node(47978)\n",
    "print(\"Nodes: \"+str(len(G1.nodes()))+\"  Edges: \"+str(len(G1.edges())))\n",
    "\n",
    "G2 =nx.read_edgelist(\"g2.txt\", nodetype=int, data=((\"length\", float),),create_using=nx.DiGraph)\n",
    "G2.remove_edge(1000,47978)\n",
    "G2.remove_node(47978)\n",
    "print(\"Nodes: \"+str(len(G2.nodes()))+\"  Edges: \"+str(len(G2.edges())))\n",
    "\n",
    "G3 =nx.read_edgelist(\"g3.txt\", nodetype=int, data=((\"length\", float),),create_using=nx.DiGraph)\n",
    "G3.remove_edge(1000,47978)\n",
    "G3.remove_node(47978)\n",
    "print(\"Nodes: \"+str(len(G3.nodes()))+\"  Edges: \"+str(len(G3.edges())))"
   ]
  },
  {
   "cell_type": "code",
   "execution_count": 2,
   "metadata": {},
   "outputs": [],
   "source": [
    "# THE FLOYD-WARSHALL ALGORITHM IS APPLIED TO FIND THE MINIMUN DISTANCE FOR ANY 2 NODES BELONGING TO THE GRAPH\n",
    "\n",
    "def Floyd_Warshall_Minimum_Distance(graph):\n",
    "    # This function takes in a graph and computes the minimun distance between any 2 nodes belonging to the graph.\n",
    "    # After computing the distance for all pairs of nodes, the one that is the smallest is returned, unless there\n",
    "    # is a negative cycle in the graph. In the later case, this is mentioned instead.\n",
    "    # This algorithm uses the Floyd-Warshall algorithm.\n",
    "    \n",
    "    # INPUT: A networkx graph.\n",
    "    # OUTPUT: The shortest distance between any pair of paints in the graph if there are no negative cycles.\n",
    "    # If there are, this is mentioned instead.\n",
    "    \n",
    "    n=len(graph.nodes())\n",
    "\n",
    "    # Initializing the array's base cases\n",
    "    A={}\n",
    "    for i in graph.nodes():\n",
    "        for j in graph.nodes():\n",
    "            if i==j:\n",
    "                A[i,j,0]=0\n",
    "            if j in graph.neighbors(i):\n",
    "                A[i,j,0]=graph[i][j]['length']\n",
    "            if j not in graph.neighbors(i):\n",
    "                A[i,j,0]=float('inf')\n",
    "\n",
    "    # Recurrence code for the array\n",
    "    for k in range(1,n+1):\n",
    "        for i in graph.nodes():\n",
    "            for j in graph.nodes():\n",
    "                A[i,j,k]=min(A[i,j,k-1],A[i,k,k-1]+A[k,j,k-1])\n",
    "        # The unnecessary information is deleted at every step to avoid overclogging the memory\n",
    "        for i in range(1,n+1):\n",
    "            for j in range(1,n+1):    \n",
    "                A.pop((i,j,k-1))\n",
    "                \n",
    "    # Check for the presence of negative cycles (Flag=1) or abscence of them (Flag=0)\n",
    "    Flag=0    \n",
    "    for i in graph.nodes():\n",
    "        if A[i,i,n]<0:\n",
    "            Flag+=1\n",
    "            break\n",
    "            \n",
    "    # The minimun distance is returned for the case of no negative cycles and the later is mentioned if there are \n",
    "    #negative cycles in the graph\n",
    "    if Flag==0:\n",
    "        temp=[A[i,j,n] for i in graph.nodes() for j in graph.nodes()]\n",
    "        return min(temp)\n",
    "    else:\n",
    "        print('The graph has a negative cycle')\n",
    "        return None    "
   ]
  },
  {
   "cell_type": "code",
   "execution_count": 3,
   "metadata": {},
   "outputs": [
    {
     "name": "stdout",
     "output_type": "stream",
     "text": [
      "The graph has a negative cycle\n"
     ]
    }
   ],
   "source": [
    "# THE ALGORITHM IS APPLIED TO THE FIRST GRAPH\n",
    "Floyd_Warshall_Minimum_Distance(G1)"
   ]
  },
  {
   "cell_type": "code",
   "execution_count": 4,
   "metadata": {},
   "outputs": [
    {
     "name": "stdout",
     "output_type": "stream",
     "text": [
      "The graph has a negative cycle\n"
     ]
    }
   ],
   "source": [
    "# THE ALGORITHM IS APPLIED TO THE SECOND GRAPH\n",
    "Floyd_Warshall_Minimum_Distance(G2)"
   ]
  },
  {
   "cell_type": "code",
   "execution_count": 5,
   "metadata": {},
   "outputs": [
    {
     "data": {
      "text/plain": [
       "-19.0"
      ]
     },
     "execution_count": 5,
     "metadata": {},
     "output_type": "execute_result"
    }
   ],
   "source": [
    "# THE ALGORITHM IS APPLIED TO THE THIRD GRAPH\n",
    "Floyd_Warshall_Minimum_Distance(G3)"
   ]
  }
 ],
 "metadata": {
  "kernelspec": {
   "display_name": "Python 3",
   "language": "python",
   "name": "python3"
  },
  "language_info": {
   "codemirror_mode": {
    "name": "ipython",
    "version": 3
   },
   "file_extension": ".py",
   "mimetype": "text/x-python",
   "name": "python",
   "nbconvert_exporter": "python",
   "pygments_lexer": "ipython3",
   "version": "3.7.6"
  }
 },
 "nbformat": 4,
 "nbformat_minor": 4
}
