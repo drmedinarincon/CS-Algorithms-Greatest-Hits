{
 "cells": [
  {
   "cell_type": "code",
   "execution_count": 1,
   "metadata": {},
   "outputs": [
    {
     "data": {
      "text/plain": [
       "{'t', 'v'}"
      ]
     },
     "execution_count": 1,
     "metadata": {},
     "output_type": "execute_result"
    }
   ],
   "source": [
    "import sys, threading\n",
    "sys.setrecursionlimit(800000)\n",
    "threading.stack_size(67108864)\n",
    "    \n",
    "import networkx as nx\n",
    "\n",
    "# STANDARD CODE FOR DEPTH-FIRST SEARCH\n",
    "\n",
    "def DFS_Original(graph,s,explored=[]):\n",
    "    # This auxiliary function performs Depth-First search on a graph called 'graph' assuming that one starts at\n",
    "    # the node 's' and the nodes in the list 'explored' have already been explored.\n",
    "    \n",
    "    # INPUT: A networkx graph called 'graph', a starting node 's' from which we start the Depth-First search, and a\n",
    "    # list called 'explored' containing the nodes in 'graph' that have already been explored.\n",
    "    # OUTPUT: A set containing the nodes in 'graph' which can be accesed from starting node 's'.\n",
    "    \n",
    "    explored.append(s)   \n",
    "    for x in list(graph.edges([s])):\n",
    "        if x[1] not in explored:\n",
    "            DFS_Original(graph,x[1],explored)\n",
    "    if set(list(graph.neighbors(s))) <= set(explored):\n",
    "        return set(explored)\n",
    "    \n",
    "# CHECK OF THE FUNCTION 'DFS_Original'\n",
    "\n",
    "# A networkx graph 'G_Ex1' is defined to test the function\n",
    "G_Ex1 = nx.DiGraph()\n",
    "G_Ex1.add_nodes_from(['s','v','w','t'])\n",
    "G_Ex1.add_edge('s','v')\n",
    "G_Ex1.add_edge('s','w')\n",
    "G_Ex1.add_edge('v','t')\n",
    "G_Ex1.add_edge('w','t')\n",
    "\n",
    "# The function is applied to the graph 'G_Ex1'\n",
    "DFS_Original(G_Ex1,'v',[])"
   ]
  },
  {
   "cell_type": "code",
   "execution_count": 2,
   "metadata": {},
   "outputs": [],
   "source": [
    "# STANDARD CODE FOR TOPOLOGICAL SORT\n",
    "\n",
    "def DFS_Loop(graph): # This is the main function for topological sort\n",
    "    \n",
    "    # INPUT: A networkx graph called 'graph'.\n",
    "    # OUTPUT A list containing the topological sort.\n",
    "    \n",
    "    explored=[]\n",
    "    f=[]\n",
    "    current_label=len(list(graph.nodes()))\n",
    "    \n",
    "    for v in reversed(list(graph.nodes())):\n",
    "        if v not in explored:\n",
    "            DFS(graph,v,explored,f)\n",
    "    return f\n",
    "\n",
    "def DFS(graph,s,explored,f): # This is an auxiliary function used in 'DFS_Loop'\n",
    "    \n",
    "    # INPUT: A networkx graph 'graph', a starting node 's' of the graph, a list 'explored' containing the labels of\n",
    "    # the vertices already explored, a list 'f'.\n",
    "    # OUTPUT: The updated list 'f'.\n",
    "\n",
    "    explored.append(s)  \n",
    "    for x in list(graph.edges([s])):\n",
    "        if x[1] not in explored:\n",
    "            DFS(graph,x[1],explored,f)\n",
    "    if set(list(graph.neighbors(s))) <= set(explored):\n",
    "        f.insert(0,s)\n",
    "        return f"
   ]
  },
  {
   "cell_type": "code",
   "execution_count": 3,
   "metadata": {},
   "outputs": [
    {
     "name": "stdout",
     "output_type": "stream",
     "text": [
      "Check of Topological Sort:\n",
      "My code: ['s', 'v', 'w', 't']\n",
      "NetworkX: ['s', 'w', 'v', 't']\n",
      "[['s', 'w', 'v', 't'], ['s', 'v', 'w', 't']]\n",
      "Does it work? True\n",
      "\n",
      "Check of Finishing Time:\n",
      "My code's finishing times (left is largest, right is smallest): [7, 4, 1, 9, 6, 8, 2, 5, 3]\n"
     ]
    }
   ],
   "source": [
    "# CHECK OF TOPOLOGICAL SORT CODE USING NETWORKX'S IMPLEMENTATION AND THE FUNCTION 'DFS_Loop'\n",
    "\n",
    "print('Check of Topological Sort:')\n",
    "print(\"My code: \"+str(DFS_Loop(G_Ex1)))\n",
    "print(\"NetworkX: \"+str(list(nx.topological_sort(G_Ex1))))\n",
    "print(list(nx.all_topological_sorts(G_Ex1)))\n",
    "print('Does it work? '+str(DFS_Loop(G_Ex1) in list(nx.all_topological_sorts(G_Ex1))))\n",
    "print('')\n",
    "\n",
    "# CHECK OF THE FINISHING TIME USING 'DFS_Loop'\n",
    "\n",
    "# A networkx graph 'G_Ex2' is defined to test the function:\n",
    "G_Ex2 = nx.DiGraph()\n",
    "G_Ex2.add_nodes_from([1,2,3,4,5,6,7,8,9])\n",
    "G_Ex2.add_edge(7,1)\n",
    "G_Ex2.add_edge(5,2)\n",
    "G_Ex2.add_edge(9,3)\n",
    "G_Ex2.add_edge(1,4)\n",
    "G_Ex2.add_edge(8,5)\n",
    "G_Ex2.add_edge(3,6)\n",
    "G_Ex2.add_edge(8,6)\n",
    "G_Ex2.add_edge(4,7)\n",
    "G_Ex2.add_edge(9,7)\n",
    "G_Ex2.add_edge(2,8)\n",
    "G_Ex2.add_edge(6,9)\n",
    "G_Ex2_rev=G_Ex2.reverse(copy=True) # This line constructs the reverse graph.\n",
    "print('Check of Finishing Time:')\n",
    "#print(\"NetworkX: \"+str(list(nx.topological_sort(G_Ex2))))\n",
    "print(\"My code's finishing times (left is largest, right is smallest): \"+str(DFS_Loop(G_Ex2_rev)))"
   ]
  },
  {
   "cell_type": "code",
   "execution_count": 4,
   "metadata": {},
   "outputs": [
    {
     "name": "stdout",
     "output_type": "stream",
     "text": [
      "Check using the graph G_Ex1:\n",
      "Networkx: [{'t'}, {'v'}, {'w'}, {'s'}]\n",
      "My code: [{'t'}, {'w'}, {'v'}, {'s'}]\n",
      " \n",
      "Check using the graph G_Ex2:\n",
      "Networkx: [{1, 4, 7}, {9, 3, 6}, {8, 2, 5}]\n",
      "My code: [{1, 4, 7}, {9, 3, 6}, {8, 2, 5}]\n"
     ]
    }
   ],
   "source": [
    "# KOSARAJU'S ALGORITHM FOR STRONGLY CONNECTED COMPONENTS\n",
    "\n",
    "def Kosaraju(graph):\n",
    "    # This function implements Kosaraju's algorithm to find the strongly connected components of a graph. This\n",
    "    # implementation is using a double recursive Depth-First search.\n",
    "    \n",
    "    # INPUT: A networkx graph called 'graph'.\n",
    "    # OUTPUT: A list containing as entries the strongly connected components of the graph. Each entry of the list \n",
    "    # is a set which has as elements the nodes of the strongly connected component. \n",
    "    \n",
    "    n=len(graph)\n",
    "    cc=[]\n",
    "    explored=[]\n",
    "    graph_rev=graph.reverse(copy=True)\n",
    "    finishing_time=DFS_Loop(graph_rev) #1st Depth-First search\n",
    "\n",
    "    dic={}\n",
    "    for i in range(n):\n",
    "        dic[finishing_time[i]]=n-i\n",
    "    graph2=nx.relabel_nodes(graph,dic, copy=True)\n",
    "\n",
    "    for x in sorted(list(graph2.nodes()),reverse=True):\n",
    "        if x not in explored:\n",
    "            explored_aux=set(explored)\n",
    "            y=set(DFS_Original(graph2,x,explored))-explored_aux #2nd Depth-First search\n",
    "            yy=[]\n",
    "            for x in y:\n",
    "                yy.append(finishing_time[n-x])\n",
    "            cc.append(set(yy))\n",
    "    return cc\n",
    "\n",
    "# CHECK OF KOSARAJU'S ALGORITHM FOR STRONGLY CONNECTED COMPONENTS \n",
    "\n",
    "# The results of the networkx implementation and the function 'Kosaraju' are compared for the cases of graphs\n",
    "# 'G_Ex1' and 'G_Ex2':\n",
    "print('Check using the graph G_Ex1:')\n",
    "print('Networkx: '+str(list(nx.strongly_connected_components(G_Ex1))))\n",
    "print('My code: '+str(Kosaraju(G_Ex1)))\n",
    "print(' ')\n",
    "print('Check using the graph G_Ex2:')\n",
    "print('Networkx: '+str(list(nx.strongly_connected_components(G_Ex2))))\n",
    "print('My code: '+str(Kosaraju(G_Ex2)))"
   ]
  },
  {
   "cell_type": "code",
   "execution_count": 5,
   "metadata": {},
   "outputs": [
    {
     "data": {
      "text/plain": [
       "[434821, 968, 459, 313, 211]"
      ]
     },
     "execution_count": 5,
     "metadata": {},
     "output_type": "execute_result"
    }
   ],
   "source": [
    "# FINAL ANSWER TO HOMEWORK\n",
    "\n",
    "# LOADING 'SCC.txt' INTO A NETWORKX GRAPH 'G':\n",
    "\n",
    "# The file 'SCC.txt' contains the edges of a directed graph. In it the vertices are labeled as positive integers \n",
    "# from 1 to 875714. Every row indicates an edge, the vertex label in the first column is the tail and the vertex \n",
    "# label in the second column is the head.\n",
    "\n",
    "G = nx.read_edgelist('SCC.txt',create_using=nx.DiGraph,nodetype=int)\n",
    "\n",
    "# LOOKING FOR THE NUMBER OF NODES IN THE 5 LARGEST STRONGLY CONNECTED COMPONENTS OF THE GRAPH 'G'\n",
    "\n",
    "#Using networkx:\n",
    "q=[len(x) for x in list(nx.strongly_connected_components(G))]\n",
    "q.sort(reverse = True)\n",
    "q[0:5]\n",
    "\n",
    "# Using the function 'Kosaraju' defined above (This takes a very long time):\n",
    "#Kosaraju(G)\n",
    "#Q=[len(x) for x in list(Kosaraju(G))]\n",
    "#Q.sort(reverse = True)\n",
    "#Q[0:5]"
   ]
  }
 ],
 "metadata": {
  "kernelspec": {
   "display_name": "Python 3",
   "language": "python",
   "name": "python3"
  },
  "language_info": {
   "codemirror_mode": {
    "name": "ipython",
    "version": 3
   },
   "file_extension": ".py",
   "mimetype": "text/x-python",
   "name": "python",
   "nbconvert_exporter": "python",
   "pygments_lexer": "ipython3",
   "version": "3.7.6"
  }
 },
 "nbformat": 4,
 "nbformat_minor": 4
}
