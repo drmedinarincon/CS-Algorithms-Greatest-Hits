{
 "cells": [
  {
   "cell_type": "code",
   "execution_count": 1,
   "metadata": {},
   "outputs": [],
   "source": [
    "import sys, threading\n",
    "sys.setrecursionlimit(800000)\n",
    "threading.stack_size(67108864)\n",
    "    \n",
    "import networkx as nx\n",
    "\n",
    "G = nx.read_edgelist('SCC.txt',create_using=nx.DiGraph,nodetype=int)"
   ]
  },
  {
   "cell_type": "code",
   "execution_count": 2,
   "metadata": {},
   "outputs": [],
   "source": [
    "# STANDARD CODE FOR DEPTH-FIRST SEARCH\n",
    "\n",
    "def DFS_Original(graph,s,explored=[]):\n",
    "    explored.append(s)   \n",
    "    #print('Explored nodes: '+str(explored))\n",
    "    for x in list(graph.edges([s])):\n",
    "        if x[1] not in explored:\n",
    "            DFS_Original(graph,x[1],explored)\n",
    "    if set(list(graph.neighbors(s))) <= set(explored):\n",
    "        return set(explored)"
   ]
  },
  {
   "cell_type": "code",
   "execution_count": 3,
   "metadata": {},
   "outputs": [
    {
     "data": {
      "text/plain": [
       "{'t', 'v'}"
      ]
     },
     "execution_count": 3,
     "metadata": {},
     "output_type": "execute_result"
    }
   ],
   "source": [
    "# CHECK OF DFS_ORIGINAL\n",
    "\n",
    "G_Ex1 = nx.DiGraph()\n",
    "G_Ex1.add_nodes_from(['s','v','w','t'])\n",
    "G_Ex1.add_edge('s','v')\n",
    "G_Ex1.add_edge('s','w')\n",
    "G_Ex1.add_edge('v','t')\n",
    "G_Ex1.add_edge('w','t')\n",
    "\n",
    "DFS_Original(G_Ex1,'v',[])"
   ]
  },
  {
   "cell_type": "code",
   "execution_count": 4,
   "metadata": {},
   "outputs": [],
   "source": [
    "#STANDARD CODE FOR TOPOLOGICAL SORT\n",
    "\n",
    "# This is the main function\n",
    "\n",
    "def DFS_Loop(graph):\n",
    "    \n",
    "    explored=[]\n",
    "    f=[]\n",
    "    current_label=len(list(graph.nodes()))\n",
    "    \n",
    "    for v in reversed(list(graph.nodes())):\n",
    "        if v not in explored:\n",
    "            DFS(graph,v,explored,f)\n",
    "    return f\n",
    "\n",
    "# This is an auxiliary function\n",
    "\n",
    "def DFS(graph,s,explored,f):\n",
    "\n",
    "    explored.append(s)  \n",
    "    #print('Explored nodes: '+str(explored))\n",
    "    #print('Value of s: '+str(s))\n",
    "    #print('Neighbors of s: '+str(list(graph.neighbors(s))))\n",
    "    #print('----------------------------------')\n",
    "    for x in list(graph.edges([s])):\n",
    "        if x[1] not in explored:\n",
    "            DFS(graph,x[1],explored,f)\n",
    "    if set(list(graph.neighbors(s))) <= set(explored):\n",
    "        f.insert(0,s)\n",
    "        #print(f)\n",
    "        return f"
   ]
  },
  {
   "cell_type": "code",
   "execution_count": 5,
   "metadata": {},
   "outputs": [
    {
     "name": "stdout",
     "output_type": "stream",
     "text": [
      "My code: ['s', 'v', 'w', 't']\n",
      "NetworkX: ['s', 'w', 'v', 't']\n",
      "[['s', 'w', 'v', 't'], ['s', 'v', 'w', 't']]\n",
      "Does it work? True\n"
     ]
    }
   ],
   "source": [
    "# 1ST CHECK: TOPOLOGICAL SORT CODE\n",
    "\n",
    "print(\"My code: \"+str(DFS_Loop(G_Ex1)))\n",
    "print(\"NetworkX: \"+str(list(nx.topological_sort(G_Ex1))))\n",
    "print(list(nx.all_topological_sorts(G_Ex1)))\n",
    "print('Does it work? '+str(DFS_Loop(G_Ex1) in list(nx.all_topological_sorts(G_Ex1))))"
   ]
  },
  {
   "cell_type": "code",
   "execution_count": 6,
   "metadata": {},
   "outputs": [
    {
     "name": "stdout",
     "output_type": "stream",
     "text": [
      "My code's finishing times (left is largest, right is smallest): [7, 4, 1, 9, 6, 8, 2, 5, 3]\n"
     ]
    }
   ],
   "source": [
    "# 2ND CHECK: FINISHING TIME\n",
    "\n",
    "G_Ex2 = nx.DiGraph()\n",
    "G_Ex2.add_nodes_from([1,2,3,4,5,6,7,8,9])\n",
    "G_Ex2.add_edge(7,1)\n",
    "G_Ex2.add_edge(5,2)\n",
    "G_Ex2.add_edge(9,3)\n",
    "G_Ex2.add_edge(1,4)\n",
    "G_Ex2.add_edge(8,5)\n",
    "G_Ex2.add_edge(3,6)\n",
    "G_Ex2.add_edge(8,6)\n",
    "G_Ex2.add_edge(4,7)\n",
    "G_Ex2.add_edge(9,7)\n",
    "G_Ex2.add_edge(2,8)\n",
    "G_Ex2.add_edge(6,9)\n",
    "G_Ex2_rev=G_Ex2.reverse(copy=True)\n",
    "#print(\"NetworkX: \"+str(list(nx.topological_sort(G_Ex2))))\n",
    "print(\"My code's finishing times (left is largest, right is smallest): \"+str(DFS_Loop(G_Ex2_rev)))"
   ]
  },
  {
   "cell_type": "code",
   "execution_count": 7,
   "metadata": {},
   "outputs": [],
   "source": [
    "# KOSARAJU'S ALGORITHM FOR STRONGLY CONNECTED COMPONENTS\n",
    "def Kosaraju(graph): \n",
    "    n=len(graph)\n",
    "    cc=[]\n",
    "    explored=[]\n",
    "    graph_rev=graph.reverse(copy=True)\n",
    "    finishing_time=DFS_Loop(graph_rev)\n",
    "\n",
    "    dic={}\n",
    "    for i in range(n):\n",
    "        dic[finishing_time[i]]=n-i\n",
    "    graph2=nx.relabel_nodes(graph,dic, copy=True)\n",
    "\n",
    "    for x in sorted(list(graph2.nodes()),reverse=True):\n",
    "        if x not in explored:\n",
    "            explored_aux=set(explored)\n",
    "            y=set(DFS_Original(graph2,x,explored))-explored_aux\n",
    "            yy=[]\n",
    "            for x in y:\n",
    "                yy.append(finishing_time[n-x])\n",
    "            cc.append(set(yy))\n",
    "    return cc"
   ]
  },
  {
   "cell_type": "code",
   "execution_count": 8,
   "metadata": {},
   "outputs": [
    {
     "name": "stdout",
     "output_type": "stream",
     "text": [
      "Networkx: [{'t'}, {'v'}, {'w'}, {'s'}]\n",
      "My code: [{'t'}, {'w'}, {'v'}, {'s'}]\n",
      "Networkx: [{1, 4, 7}, {9, 3, 6}, {8, 2, 5}]\n",
      "My code: [{1, 4, 7}, {9, 3, 6}, {8, 2, 5}]\n"
     ]
    }
   ],
   "source": [
    "# CHECK OF KOSARAJU'S ALGORITHM FOR STRONGLY CONNECTED COMPONENTS \n",
    "\n",
    "print('Networkx: '+str(list(nx.strongly_connected_components(G_Ex1))))\n",
    "print('My code: '+str(Kosaraju(G_Ex1)))\n",
    "\n",
    "print('Networkx: '+str(list(nx.strongly_connected_components(G_Ex2))))\n",
    "print('My code: '+str(Kosaraju(G_Ex2)))"
   ]
  },
  {
   "cell_type": "code",
   "execution_count": 9,
   "metadata": {},
   "outputs": [
    {
     "data": {
      "text/plain": [
       "[434821, 968, 459, 313, 211]"
      ]
     },
     "execution_count": 9,
     "metadata": {},
     "output_type": "execute_result"
    }
   ],
   "source": [
    "# FINAL ANSWER TO HOMEWORK\n",
    "\n",
    "q=[len(x) for x in list(nx.strongly_connected_components(G))]\n",
    "q.sort(reverse = True)\n",
    "q[0:5]"
   ]
  },
  {
   "cell_type": "code",
   "execution_count": 10,
   "metadata": {},
   "outputs": [],
   "source": [
    "#Kosaraju(G)\n",
    "#Q=[len(x) for x in list(Kosaraju(G))]\n",
    "#Q.sort(reverse = True)\n",
    "#Q[0:5]"
   ]
  },
  {
   "cell_type": "code",
   "execution_count": null,
   "metadata": {},
   "outputs": [
    {
     "name": "stdout",
     "output_type": "stream",
     "text": [
      "[164807, 155043, 111, 16, 10]\n"
     ]
    }
   ],
   "source": [
    "C1=nx.read_edgelist('input_mostlyCycles_66_320000.txt',create_using=nx.DiGraph,nodetype=int)\n",
    "q=[len(x) for x in list(nx.strongly_connected_components(C1))]\n",
    "q.sort(reverse = True)\n",
    "print(q[0:5])\n",
    "Q=[len(x) for x in list(Kosaraju(C1))]\n",
    "Q.sort(reverse = True)\n",
    "print(Q[0:5])"
   ]
  },
  {
   "cell_type": "code",
   "execution_count": null,
   "metadata": {},
   "outputs": [],
   "source": [
    "C1=nx.read_edgelist('input_mostlyCycles_67_320000.txt',create_using=nx.DiGraph,nodetype=int)\n",
    "q=[len(x) for x in list(nx.strongly_connected_components(C1))]\n",
    "q.sort(reverse = True)\n",
    "print(q[0:5])\n",
    "Q=[len(x) for x in list(Kosaraju(C1))]\n",
    "Q.sort(reverse = True)\n",
    "print(Q[0:5])"
   ]
  },
  {
   "cell_type": "code",
   "execution_count": null,
   "metadata": {},
   "outputs": [],
   "source": [
    "C1=nx.read_edgelist('input_mostlyCycles_68_320000.txt',create_using=nx.DiGraph,nodetype=int)\n",
    "q=[len(x) for x in list(nx.strongly_connected_components(C1))]\n",
    "q.sort(reverse = True)\n",
    "print(q[0:5])\n",
    "Q=[len(x) for x in list(Kosaraju(C1))]\n",
    "Q.sort(reverse = True)\n",
    "print(Q[0:5])"
   ]
  },
  {
   "cell_type": "code",
   "execution_count": null,
   "metadata": {},
   "outputs": [],
   "source": []
  }
 ],
 "metadata": {
  "kernelspec": {
   "display_name": "Python 3",
   "language": "python",
   "name": "python3"
  },
  "language_info": {
   "codemirror_mode": {
    "name": "ipython",
    "version": 3
   },
   "file_extension": ".py",
   "mimetype": "text/x-python",
   "name": "python",
   "nbconvert_exporter": "python",
   "pygments_lexer": "ipython3",
   "version": "3.7.6"
  }
 },
 "nbformat": 4,
 "nbformat_minor": 4
}
