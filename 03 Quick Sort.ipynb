{
 "cells": [
  {
   "cell_type": "code",
   "execution_count": 1,
   "metadata": {},
   "outputs": [],
   "source": [
    "import numpy as np\n",
    "\n",
    "def Quick_Sort_Count(array,P):\n",
    "# This function counts the number of comparisons used by the QuickSort algorithm to sort an input array called\n",
    "# 'array'. The counting is done in a recursive manner.\n",
    "\n",
    "# INPUT: 'array' is a list containing integers in an unsorted order. 'P' is an integer and denotes the choice of\n",
    "# pivot location used for the QuickSort algorithm. If P==0, the pivot is the first element of the list. If P==-1, \n",
    "# one uses as pivot the last element of the list. If P=='m', then the pivot element is chosen using the \n",
    "# \"median-of-three\" rule. In the later rule, the first, middle and final elements of the array are considered, \n",
    "# the median of these 3 is chosen as the pivot.\n",
    "# OUTPUT: An Integer given by the number of comparisons used by the QuickSort algorithm.\n",
    "\n",
    "    # The trivial case where array is of size 0 or 1:\n",
    "    if len(array)<=1:\n",
    "        return 0\n",
    "    else:\n",
    "        # The following accounts for the case P=='m' where the \"median-of-three\" rule is used for the pivot:\n",
    "        if P=='m':\n",
    "            if len(array)%2==0:\n",
    "                middle_index=int(len(array)/2)-1\n",
    "            else:\n",
    "                middle_index=int(len(array)/2)\n",
    "            array_reduced=[array[0],array[middle_index],array[-1]]\n",
    "            med=np.argsort(array_reduced)[len(array_reduced)//2]\n",
    "            \n",
    "            if med==0:\n",
    "                p=0\n",
    "            if med==1:\n",
    "                p=middle_index\n",
    "            if med==2:\n",
    "                p=-1\n",
    "        else:\n",
    "            # Here the pivot index is choosen directly to be the value of P:\n",
    "            p=P\n",
    "                \n",
    "        Count=len(array)-1\n",
    "        array[0],array[p]=array[p],array[0]\n",
    "        i=1\n",
    "        for j in range(len(array)):\n",
    "            if array[j]<array[0]:\n",
    "                array[i],array[j]=array[j],array[i]\n",
    "                i+=1\n",
    "        \n",
    "        array[0],array[i-1]=array[i-1],array[0]\n",
    "            \n",
    "        array_left=array[:i-1]\n",
    "        array_middle=[array[i-1]]\n",
    "        array_right=array[i:]\n",
    "        \n",
    "        # The function then calls itself in a recursive manner until finding a trivial case:\n",
    "        return Count+Quick_Sort_Count(array_left,P)+Quick_Sort_Count(array_right,P)"
   ]
  },
  {
   "cell_type": "code",
   "execution_count": 2,
   "metadata": {},
   "outputs": [
    {
     "data": {
      "text/plain": [
       "[1, 2, 3, 4, 5, 6, 7, 8]"
      ]
     },
     "execution_count": 2,
     "metadata": {},
     "output_type": "execute_result"
    }
   ],
   "source": [
    "def Quick_Sort(array,P):\n",
    "# This function implements the QuickSort algorithm to sort a list called 'array' and uses the index 'P' as pivot.\n",
    "# This is done in a recursive manner.\n",
    "\n",
    "# INPUT: 'array' is a list containing integers in an unsorted order. 'P' is an integer and denotes the choice of\n",
    "# pivot location used for the QuickSort algorithm. If P==0, the pivot is the first element of the list. If P==-1, \n",
    "# one uses as pivot the last element of the list. If P=='m', then the pivot element is chosen using the \n",
    "# \"median-of-three\" rule. In the later rule, the first, middle and final elements of the array are considered, \n",
    "# the median of these 3 is chosen as the pivot.\n",
    "# OUTPUT: A list with the integer entries sorted from smaller to larger.\n",
    "    \n",
    "    # The trivial case where array is of size 0 or 1:\n",
    "    if len(array)<=1:\n",
    "        return array\n",
    "    else:\n",
    "        # The following accounts for the case P=='m' where the \"median-of-three\" rule is used for the pivot:\n",
    "        if P=='m':\n",
    "            if len(array)%2==0:\n",
    "                middle_index=int(len(array)/2)-1\n",
    "            else:\n",
    "                middle_index=int(len(array)/2)\n",
    "            array_reduced=[array[0],array[middle_index],array[-1]]\n",
    "            med=np.argsort(array_reduced)[len(array_reduced)//2]\n",
    "            if med==0:\n",
    "                p=0\n",
    "            if med==1:\n",
    "                p=middle_index\n",
    "            if med==2:\n",
    "                p=-1\n",
    "        else:\n",
    "            # Here the pivot index is choosen directly to be the value of P:\n",
    "            p=P\n",
    "            \n",
    "        Count=len(array)-1\n",
    "        array[0],array[p]=array[p],array[0]\n",
    "        i=1\n",
    "        for j in range(len(array)):\n",
    "            if array[j]<array[0]:\n",
    "                array[i],array[j]=array[j],array[i]\n",
    "                i+=1\n",
    "        \n",
    "        array[0],array[i-1]=array[i-1],array[0]\n",
    "            \n",
    "        array_left=array[:i-1]\n",
    "        array_middle=[array[i-1]]\n",
    "        array_right=array[i:]\n",
    "        \n",
    "        # The function then calls itself in a recursive manner until finding a trivial case:\n",
    "        return Quick_Sort(array_left,P)+array_middle+Quick_Sort(array_right,P)\n",
    "    \n",
    "    \n",
    "# Example of using the function 'Quick_Sort' on a simple list using the first element as pivot:\n",
    "Quick_Sort([3,8,2,5,1,4,7,6],0)"
   ]
  },
  {
   "cell_type": "code",
   "execution_count": 3,
   "metadata": {},
   "outputs": [
    {
     "data": {
      "text/plain": [
       "138382"
      ]
     },
     "execution_count": 3,
     "metadata": {},
     "output_type": "execute_result"
    }
   ],
   "source": [
    "# APPLYING THE 'Quick_Sort_Count' TO A VERY LARGE LIST OF INTEGERS\n",
    "\n",
    "# This loads the file 'QuickSort.txt' file into a list called 'Array'.\n",
    "# This file contains all integers between 1 and 10000 unrepeated in an unsorted order.\n",
    "with open('QuickSort.txt') as f:\n",
    "    lines = f.readlines()\n",
    "Array = [int(string) for string in lines]\n",
    "\n",
    "# The function 'Quick_Sort_Count' is now applied to the list 'Array' using the \"median-of-three\" as pivot\n",
    "Quick_Sort_Count(Array,'m')"
   ]
  }
 ],
 "metadata": {
  "kernelspec": {
   "display_name": "Python 3",
   "language": "python",
   "name": "python3"
  },
  "language_info": {
   "codemirror_mode": {
    "name": "ipython",
    "version": 3
   },
   "file_extension": ".py",
   "mimetype": "text/x-python",
   "name": "python",
   "nbconvert_exporter": "python",
   "pygments_lexer": "ipython3",
   "version": "3.7.6"
  }
 },
 "nbformat": 4,
 "nbformat_minor": 4
}
