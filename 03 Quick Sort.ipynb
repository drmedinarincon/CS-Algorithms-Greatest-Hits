{
 "cells": [
  {
   "cell_type": "code",
   "execution_count": 1,
   "metadata": {},
   "outputs": [],
   "source": [
    "import numpy as np\n",
    "\n",
    "with open('QuickSort.txt') as f:\n",
    "    lines = f.readlines()\n",
    "Array = [int(string) for string in lines]"
   ]
  },
  {
   "cell_type": "code",
   "execution_count": 2,
   "metadata": {},
   "outputs": [
    {
     "data": {
      "text/plain": [
       "138382"
      ]
     },
     "execution_count": 2,
     "metadata": {},
     "output_type": "execute_result"
    }
   ],
   "source": [
    "def Quick_Sort_Count(array,P):\n",
    "\n",
    "    if len(array)<=1:\n",
    "        return 0\n",
    "    else:\n",
    "        if P=='m':\n",
    "            \n",
    "\n",
    "            if len(array)%2==0:\n",
    "                middle_index=int(len(array)/2)-1\n",
    "            else:\n",
    "                middle_index=int(len(array)/2)\n",
    "            array_reduced=[array[0],array[middle_index],array[-1]]\n",
    "            med=np.argsort(array_reduced)[len(array_reduced)//2]\n",
    "            #print(str(array_reduced)+' , '+str(med))\n",
    "            if med==0:\n",
    "                p=0\n",
    "            if med==1:\n",
    "                p=middle_index\n",
    "            if med==2:\n",
    "                p=-1\n",
    "        else:\n",
    "            p=P\n",
    "                \n",
    "        #print(array)\n",
    "        Count=len(array)-1\n",
    "        array[0],array[p]=array[p],array[0]\n",
    "        i=1\n",
    "        for j in range(len(array)):\n",
    "            if array[j]<array[0]:\n",
    "                array[i],array[j]=array[j],array[i]\n",
    "                i+=1\n",
    "        \n",
    "\n",
    "        array[0],array[i-1]=array[i-1],array[0]\n",
    "            \n",
    "        array_left=array[:i-1]\n",
    "        array_middle=[array[i-1]]\n",
    "        array_right=array[i:]\n",
    "        \n",
    "        #print('Left: '+str(array_left))\n",
    "        #print('Middle: '+str(array_middle))\n",
    "        #print('Right: '+str(array_right))\n",
    "        #print(array)\n",
    "        #print('---------------------------------')\n",
    "\n",
    "        return Count+Quick_Sort_Count(array_left,P)+Quick_Sort_Count(array_right,P)\n",
    "Quick_Sort_Count(Array,'m')"
   ]
  },
  {
   "cell_type": "code",
   "execution_count": 3,
   "metadata": {},
   "outputs": [
    {
     "name": "stdout",
     "output_type": "stream",
     "text": [
      "1) 6,10,6 Ans: 6,10,6\n",
      "2) 7,8,6 Ans: 7,8,6\n",
      "3) 7,7,6 Ans: 7,7,6\n",
      "4) 7,6,6 Ans: 7,6,6\n",
      "5) 7,8,6 Ans: 7,8,6\n",
      "6) 26,21,21 Ans: 26,21,21\n",
      "7) 28,22,22 Ans: 28,22,22\n",
      "8) 23,21,19 Ans: 23,21,19\n",
      "9) 25,27,23 Ans: 25,27,23\n",
      "10) 21,22,20 Ans: 21,22,20\n",
      "11) 71,73,56 Ans: 71,73,56\n",
      "12) 76,75,60 Ans: 76,75,60\n",
      "13) 91,78,66 Ans: 91,78,66\n",
      "14) 81,69,55 Ans: 81,69,55\n",
      "15) 69,65,56 Ans: 69,65,56\n"
     ]
    }
   ],
   "source": [
    "# CHECKS - LENGHT 5\n",
    "print('1) '+str(Quick_Sort_Count([3,2,1,4,5],0))+','+str(Quick_Sort_Count([3,2,1,4,5],-1))+','+str(Quick_Sort_Count([3,2,1,4,5],'m'))+' Ans: 6,10,6')\n",
    "print('2) '+str(Quick_Sort_Count([4,3,2,5,1],0))+','+str(Quick_Sort_Count([4,3,2,5,1],-1))+','+str(Quick_Sort_Count([4,3,2,5,1],'m'))+' Ans: 7,8,6')\n",
    "print('3) '+str(Quick_Sort_Count([2,5,1,3,4],0))+','+str(Quick_Sort_Count([2,5,1,3,4],-1))+','+str(Quick_Sort_Count([2,5,1,3,4],'m'))+' Ans: 7,7,6')\n",
    "print('4) '+str(Quick_Sort_Count([4,1,2,5,3],0))+','+str(Quick_Sort_Count([4,1,2,5,3],-1))+','+str(Quick_Sort_Count([4,1,2,5,3],'m'))+' Ans: 7,6,6')\n",
    "print('5) '+str(Quick_Sort_Count([4,5,2,3,1],0))+','+str(Quick_Sort_Count([4,5,2,3,1],-1))+','+str(Quick_Sort_Count([4,5,2,3,1],'m'))+' Ans: 7,8,6')\n",
    "# CHECKS - LENGHT 10\n",
    "print('6) '+str(Quick_Sort_Count([1,6,8,10,7,5,2,9,4,3],0))+','+str(Quick_Sort_Count([1,6,8,10,7,5,2,9,4,3],-1))+','+str(Quick_Sort_Count([1,6,8,10,7,5,2,9,4,3],'m'))+' Ans: 26,21,21')\n",
    "print('7) '+str(Quick_Sort_Count([10,6,3,7,9,2,5,8,1,4],0))+','+str(Quick_Sort_Count([10,6,3,7,9,2,5,8,1,4],-1))+','+str(Quick_Sort_Count([10,6,3,7,9,2,5,8,1,4],'m'))+' Ans: 28,22,22')\n",
    "print('8) '+str(Quick_Sort_Count([6,4,1,9,8,3,10,2,7,5],0))+','+str(Quick_Sort_Count([6,4,1,9,8,3,10,2,7,5],-1))+','+str(Quick_Sort_Count([6,4,1,9,8,3,10,2,7,5],'m'))+' Ans: 23,21,19')\n",
    "print('9) '+str(Quick_Sort_Count([4,5,8,6,10,2,3,1,7,9],0))+','+str(Quick_Sort_Count([4,5,8,6,10,2,3,1,7,9],-1))+','+str(Quick_Sort_Count([4,5,8,6,10,2,3,1,7,9],'m'))+' Ans: 25,27,23')\n",
    "print('10) '+str(Quick_Sort_Count([3,2,10,6,7,1,9,5,4,8],0))+','+str(Quick_Sort_Count([3,2,10,6,7,1,9,5,4,8],-1))+','+str(Quick_Sort_Count([3,2,10,6,7,1,9,5,4,8],'m'))+' Ans: 21,22,20')\n",
    "# CHECKS - LENGHT 20\n",
    "print('11) '+str(Quick_Sort_Count([11,18,5,20,8,10,3,2,17,4,13,7,12,9,6,16,19,15,1,14],0))+','+str(Quick_Sort_Count([11,18,5,20,8,10,3,2,17,4,13,7,12,9,6,16,19,15,1,14],-1))+','+str(Quick_Sort_Count([11,18,5,20,8,10,3,2,17,4,13,7,12,9,6,16,19,15,1,14],'m'))+' Ans: 71,73,56')\n",
    "print('12) '+str(Quick_Sort_Count([5,11,8,17,18,19,4,13,16,6,10,9,3,1,2,14,15,12,7,20],0))+','+str(Quick_Sort_Count([5,11,8,17,18,19,4,13,16,6,10,9,3,1,2,14,15,12,7,20],-1))+','+str(Quick_Sort_Count([5,11,8,17,18,19,4,13,16,6,10,9,3,1,2,14,15,12,7,20],'m'))+' Ans: 76,75,60')\n",
    "print('13) '+str(Quick_Sort_Count([19,17,4,12,18,2,7,10,8,16,9,3,5,6,15,11,20,1,13,14],0))+','+str(Quick_Sort_Count([19,17,4,12,18,2,7,10,8,16,9,3,5,6,15,11,20,1,13,14],-1))+','+str(Quick_Sort_Count([19,17,4,12,18,2,7,10,8,16,9,3,5,6,15,11,20,1,13,14],'m'))+' Ans: 91,78,66')\n",
    "print('14) '+str(Quick_Sort_Count([2,20,1,15,3,11,13,6,16,10,19,5,4,9,8,14,18,17,7,12],0))+','+str(Quick_Sort_Count([2,20,1,15,3,11,13,6,16,10,19,5,4,9,8,14,18,17,7,12],-1))+','+str(Quick_Sort_Count([2,20,1,15,3,11,13,6,16,10,19,5,4,9,8,14,18,17,7,12],'m'))+' Ans: 81,69,55')\n",
    "print('15) '+str(Quick_Sort_Count([2,1,12,13,16,10,9,5,18,8,17,20,19,3,4,11,14,6,7,15],0))+','+str(Quick_Sort_Count([2,1,12,13,16,10,9,5,18,8,17,20,19,3,4,11,14,6,7,15],-1))+','+str(Quick_Sort_Count([2,1,12,13,16,10,9,5,18,8,17,20,19,3,4,11,14,6,7,15],'m'))+' Ans: 69,65,56')"
   ]
  },
  {
   "cell_type": "code",
   "execution_count": 4,
   "metadata": {},
   "outputs": [
    {
     "data": {
      "text/plain": [
       "[1, 2, 3, 4, 5, 6, 7, 8]"
      ]
     },
     "execution_count": 4,
     "metadata": {},
     "output_type": "execute_result"
    }
   ],
   "source": [
    "def Quick_Sort(array,P):\n",
    "\n",
    "    if len(array)<=1:\n",
    "        return array\n",
    "    else:\n",
    "        if P=='m':\n",
    "            \n",
    "\n",
    "            if len(array)%2==0:\n",
    "                middle_index=int(len(array)/2)-1\n",
    "            else:\n",
    "                middle_index=int(len(array)/2)\n",
    "            array_reduced=[array[0],array[middle_index],array[-1]]\n",
    "            med=np.argsort(array_reduced)[len(array_reduced)//2]\n",
    "            #print(str(array_reduced)+' , '+str(med))\n",
    "            if med==0:\n",
    "                p=0\n",
    "            if med==1:\n",
    "                p=middle_index\n",
    "            if med==2:\n",
    "                p=-1\n",
    "        else:\n",
    "            p=P\n",
    "            \n",
    "        #print(array)\n",
    "        Count=len(array)-1\n",
    "        array[0],array[p]=array[p],array[0]\n",
    "        i=1\n",
    "        for j in range(len(array)):\n",
    "            if array[j]<array[0]:\n",
    "                array[i],array[j]=array[j],array[i]\n",
    "                i+=1\n",
    "        \n",
    "\n",
    "        array[0],array[i-1]=array[i-1],array[0]\n",
    "            \n",
    "        array_left=array[:i-1]\n",
    "        array_middle=[array[i-1]]\n",
    "        array_right=array[i:]\n",
    "        \n",
    "        #print('Left: '+str(array_left))\n",
    "        #print('Middle: '+str(array_middle))\n",
    "        #print('Right: '+str(array_right))\n",
    "        #print(array)\n",
    "        #print('---------------------------------')\n",
    "\n",
    "        return Quick_Sort(array_left,P)+array_middle+Quick_Sort(array_right,P)\n",
    "    \n",
    "Quick_Sort([3,8,2,5,1,4,7,6],0)"
   ]
  },
  {
   "cell_type": "code",
   "execution_count": null,
   "metadata": {},
   "outputs": [],
   "source": []
  }
 ],
 "metadata": {
  "kernelspec": {
   "display_name": "Python 3",
   "language": "python",
   "name": "python3"
  },
  "language_info": {
   "codemirror_mode": {
    "name": "ipython",
    "version": 3
   },
   "file_extension": ".py",
   "mimetype": "text/x-python",
   "name": "python",
   "nbconvert_exporter": "python",
   "pygments_lexer": "ipython3",
   "version": "3.7.6"
  }
 },
 "nbformat": 4,
 "nbformat_minor": 4
}
