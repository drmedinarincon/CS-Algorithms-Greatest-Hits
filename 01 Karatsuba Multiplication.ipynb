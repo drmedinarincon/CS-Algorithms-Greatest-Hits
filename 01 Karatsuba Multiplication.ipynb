{
 "cells": [
  {
   "cell_type": "code",
   "execution_count": 1,
   "metadata": {},
   "outputs": [],
   "source": [
    "def karatsuba(X,Y):\n",
    "    \n",
    "    x=max(X,Y)\n",
    "    y=min(X,Y)\n",
    "    \n",
    "    # Base case\n",
    "    if x<10 or y<10:\n",
    "        return x*y\n",
    "    \n",
    "    # Recursive case\n",
    "    else:\n",
    "        \n",
    "        n1=len(str(x))\n",
    "        n2=len(str(y))\n",
    "        m=int(min(n1,n2)/2)\n",
    "               \n",
    "        a=int(str(x)[0:m])\n",
    "        b=int(x-(10**m)*a)\n",
    "        c=int(str(y)[0:m])\n",
    "        d=int(y-(10**m)*c)\n",
    "        \n",
    "        z0=karatsuba(b,d) \n",
    "        z1=karatsuba(a,d)+karatsuba(b,c)\n",
    "        z2=karatsuba(a,c)\n",
    "        result=int(10**(2*m))*z2+int(10**m)*z1+z0       \n",
    "\n",
    "        return result"
   ]
  },
  {
   "cell_type": "code",
   "execution_count": 2,
   "metadata": {},
   "outputs": [
    {
     "data": {
      "text/plain": [
       "8539734222673567065463550869546574495034888535765114961879601127067743044893204848617875072216249073013374895871952806582723184"
      ]
     },
     "execution_count": 2,
     "metadata": {},
     "output_type": "execute_result"
    }
   ],
   "source": [
    "3141592653589793238462643383279502884197169399375105820974944592*2718281828459045235360287471352662497757247093699959574966967627"
   ]
  },
  {
   "cell_type": "code",
   "execution_count": 3,
   "metadata": {
    "scrolled": true
   },
   "outputs": [
    {
     "name": "stdout",
     "output_type": "stream",
     "text": [
      "8539734222673567065463550869546574495034888535765114961879601127067743044893204848617875072216249073013374895871952806582723184\n"
     ]
    }
   ],
   "source": [
    "print(karatsuba(3141592653589793238462643383279502884197169399375105820974944592,2718281828459045235360287471352662497757247093699959574966967627))"
   ]
  },
  {
   "cell_type": "code",
   "execution_count": 4,
   "metadata": {},
   "outputs": [
    {
     "data": {
      "text/plain": [
       "7006652"
      ]
     },
     "execution_count": 4,
     "metadata": {},
     "output_type": "execute_result"
    }
   ],
   "source": [
    "# CHECK\n",
    "karatsuba(5678,1234)"
   ]
  }
 ],
 "metadata": {
  "kernelspec": {
   "display_name": "Python 3",
   "language": "python",
   "name": "python3"
  },
  "language_info": {
   "codemirror_mode": {
    "name": "ipython",
    "version": 3
   },
   "file_extension": ".py",
   "mimetype": "text/x-python",
   "name": "python",
   "nbconvert_exporter": "python",
   "pygments_lexer": "ipython3",
   "version": "3.7.6"
  }
 },
 "nbformat": 4,
 "nbformat_minor": 4
}
