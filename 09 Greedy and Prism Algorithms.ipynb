{
 "cells": [
  {
   "cell_type": "code",
   "execution_count": 1,
   "metadata": {},
   "outputs": [
    {
     "data": {
      "text/plain": [
       "10000"
      ]
     },
     "execution_count": 1,
     "metadata": {},
     "output_type": "execute_result"
    }
   ],
   "source": [
    "# Loads the jobs list such that there is a line per job with the format [weight,lenght]\n",
    "\n",
    "with open('jobs.txt') as f:\n",
    "    lines = f.readlines()\n",
    "Array = [string for string in lines]\n",
    "Array=Array[1:]\n",
    "Array=[x.split() for x in Array]\n",
    "Array=[[int(x[0]),int(x[1])] for x in Array]\n",
    "len(Array)"
   ]
  },
  {
   "cell_type": "code",
   "execution_count": 2,
   "metadata": {
    "scrolled": false
   },
   "outputs": [
    {
     "data": {
      "text/plain": [
       "69119377652"
      ]
     },
     "execution_count": 2,
     "metadata": {},
     "output_type": "execute_result"
    }
   ],
   "source": [
    "# FIRST GREEDY ALGORITHM: Sorts jobs in decreasing order of weight-length\n",
    "\n",
    "def First_Greedy(array):\n",
    "    Sorted_array=sorted(array,key=lambda x: (x[0]-x[1],x[0]),reverse=True)\n",
    "    \n",
    "    Time=0\n",
    "    Weighted_Completition_Time=0\n",
    "    for x in Sorted_array:\n",
    "        Time+=x[1]\n",
    "        Weighted_Completition_Time+=x[0]*Time\n",
    "    return(Weighted_Completition_Time)\n",
    "\n",
    "First_Greedy(Array)"
   ]
  },
  {
   "cell_type": "code",
   "execution_count": 3,
   "metadata": {},
   "outputs": [
    {
     "data": {
      "text/plain": [
       "67311454237"
      ]
     },
     "execution_count": 3,
     "metadata": {},
     "output_type": "execute_result"
    }
   ],
   "source": [
    "# SECOND GREEDY ALGORITHM: Sorts jobs in decreasing order of weight/length\n",
    "\n",
    "def Second_Greedy(array):\n",
    "    Sorted_array=sorted(array,key=lambda x: x[0]/x[1],reverse=True)\n",
    "\n",
    "    Time=0\n",
    "    Weighted_Completition_Time=0\n",
    "    for x in Sorted_array:\n",
    "        Time+=x[1]\n",
    "        Weighted_Completition_Time+=x[0]*Time\n",
    "    return(Weighted_Completition_Time)\n",
    "\n",
    "Second_Greedy(Array)"
   ]
  },
  {
   "cell_type": "code",
   "execution_count": 4,
   "metadata": {},
   "outputs": [
    {
     "name": "stdout",
     "output_type": "stream",
     "text": [
      "Edges: 2184\n",
      "Nodes: 500\n"
     ]
    }
   ],
   "source": [
    "# Loads the graph on networkx for Question 3\n",
    "\n",
    "import networkx as nx\n",
    "\n",
    "G = nx.read_weighted_edgelist('edges.txt',nodetype=int)\n",
    "G.remove_edge(500,2184)\n",
    "G.remove_node(2184)\n",
    "print('Edges: '+str(len(G.edges(data=True))))\n",
    "print('Nodes: '+str(len(G.nodes(data=True))))"
   ]
  },
  {
   "cell_type": "code",
   "execution_count": 5,
   "metadata": {},
   "outputs": [
    {
     "name": "stdout",
     "output_type": "stream",
     "text": [
      "Overall Cost: -3612829\n"
     ]
    }
   ],
   "source": [
    "# PRISM'S ALGORITH FOR MINIMUN SPANNING TREES\n",
    "\n",
    "def prism(graph):\n",
    "    import random\n",
    "\n",
    "    s=random.choice(list(graph.nodes())) # Randomly chooses starting node\n",
    "\n",
    "    X={s} # Contains the vertices already visited\n",
    "    V=set(graph.nodes) # Contains the vertices not visited yet\n",
    "    V.remove(s)\n",
    "\n",
    "    T=[] # will contain the edges of MST\n",
    "\n",
    "    while len(X)< len(list(graph.nodes())):\n",
    "        cheapest_edgeA=min([x for x in list(graph.edges(data=True)) if x[0] in X and x[1] in V], key=lambda x: graph.get_edge_data(x[0], x[1])['weight'])\n",
    "        cheapest_edgeB=min([x for x in list(graph.edges(data=True)) if x[1] in X and x[0] in V], key=lambda x: graph.get_edge_data(x[0], x[1])['weight'])\n",
    "        if cheapest_edgeA[2]['weight']<cheapest_edgeB[2]['weight']:\n",
    "            T.append(cheapest_edgeA)\n",
    "            X.add(cheapest_edgeA[1])\n",
    "            V.remove(cheapest_edgeA[1])\n",
    "        else:\n",
    "            T.append(cheapest_edgeB)\n",
    "            X.add(cheapest_edgeB[0])\n",
    "            V.remove(cheapest_edgeB[0])       \n",
    "    return T\n",
    "\n",
    "mst1=prism(G)\n",
    "Overall_Cost=int(sum([x[2]['weight'] for x in mst1]))\n",
    "print('Overall Cost: '+str(Overall_Cost))"
   ]
  },
  {
   "cell_type": "code",
   "execution_count": 6,
   "metadata": {},
   "outputs": [
    {
     "name": "stdout",
     "output_type": "stream",
     "text": [
      "Overall Cost: -3612829\n"
     ]
    }
   ],
   "source": [
    "# SOLUTION USING NETWORKX\n",
    "\n",
    "from networkx.algorithms import tree\n",
    "\n",
    "mst2 = tree.minimum_spanning_edges(G, algorithm=\"prim\", data=True)\n",
    "Overall_Cost=int(sum([x[2]['weight'] for x in mst2]))\n",
    "print('Overall Cost: '+str(Overall_Cost))"
   ]
  }
 ],
 "metadata": {
  "kernelspec": {
   "display_name": "Python 3",
   "language": "python",
   "name": "python3"
  },
  "language_info": {
   "codemirror_mode": {
    "name": "ipython",
    "version": 3
   },
   "file_extension": ".py",
   "mimetype": "text/x-python",
   "name": "python",
   "nbconvert_exporter": "python",
   "pygments_lexer": "ipython3",
   "version": "3.7.6"
  }
 },
 "nbformat": 4,
 "nbformat_minor": 4
}
