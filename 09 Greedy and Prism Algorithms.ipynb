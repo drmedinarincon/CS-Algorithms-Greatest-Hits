{
 "cells": [
  {
   "cell_type": "code",
   "execution_count": 1,
   "metadata": {},
   "outputs": [
    {
     "name": "stdout",
     "output_type": "stream",
     "text": [
      "Number of jobs: 10000\n"
     ]
    }
   ],
   "source": [
    "# LOADING THE JOB LIST USED FOR THE FIRST AND SECOND GREEDY ALGORITHMS\n",
    "\n",
    "# The file 'jobs.txt' describes a set of jobs with positive integer weights and lengths. 'jobs.txt' has the\n",
    "# format:\n",
    "\n",
    "# [number_of_jobs]\n",
    "# [job_1_weight] [job_1_length]\n",
    "# [job_2_weight] [job_2_length]\n",
    "\n",
    "with open('jobs.txt') as f:\n",
    "    lines = f.readlines()\n",
    "Array = [string for string in lines]\n",
    "Array=Array[1:]\n",
    "Array=[x.split() for x in Array]\n",
    "Array=[[int(x[0]),int(x[1])] for x in Array] # Each entry in this list is a job with the format [weight,length].\n",
    "print(\"Number of jobs: \"+str(len(Array)))"
   ]
  },
  {
   "cell_type": "code",
   "execution_count": 2,
   "metadata": {
    "scrolled": false
   },
   "outputs": [
    {
     "data": {
      "text/plain": [
       "69119377652"
      ]
     },
     "execution_count": 2,
     "metadata": {},
     "output_type": "execute_result"
    }
   ],
   "source": [
    "# FIRST GREEDY ALGORITHM: Sorts jobs in decreasing order of weight-length\n",
    "\n",
    "def First_Greedy(array):\n",
    "    # This function runs a greedy algorithm that schedules jobs in decreasing order of the difference\n",
    "    # (weight-length). This algorithm is not always optimal. If two jobs have the equal difference (weight-length),\n",
    "    # the job with the heigher weight is scheduled first.\n",
    "    \n",
    "    # INPUT: A python list containing the list of jobs with each entry describing a job with the format \n",
    "    # [weight,length].\n",
    "    # OUTPUT: The sum of weighted completion times of the schedule. This is a positive integer.\n",
    "    \n",
    "    Sorted_array=sorted(array,key=lambda x: (x[0]-x[1],x[0]),reverse=True)\n",
    "    \n",
    "    Time=0\n",
    "    Weighted_Completition_Time=0\n",
    "    for x in Sorted_array:\n",
    "        Time+=x[1]\n",
    "        Weighted_Completition_Time+=x[0]*Time\n",
    "    return(Weighted_Completition_Time)\n",
    "\n",
    "# Applying the greedy algorithm implemented in 'First_Greedy' to the job list in 'Array':\n",
    "\n",
    "First_Greedy(Array)"
   ]
  },
  {
   "cell_type": "code",
   "execution_count": 3,
   "metadata": {},
   "outputs": [
    {
     "data": {
      "text/plain": [
       "67311454237"
      ]
     },
     "execution_count": 3,
     "metadata": {},
     "output_type": "execute_result"
    }
   ],
   "source": [
    "# SECOND GREEDY ALGORITHM: Sorts jobs in decreasing order of weight/length\n",
    "\n",
    "def Second_Greedy(array):\n",
    "    # This function runs a greedy algorithm that schedules jobs (optimally) in decreasing order of the ratio\n",
    "    # (weight/length). It won't matter how ties are broken.\n",
    "    \n",
    "    # INPUT: A python list containing the list of jobs with each entry describing a job with the format \n",
    "    # [weight,length].\n",
    "    # OUTPUT: The sum of weighted completion times of the schedule. This is a positive integer.\n",
    "    \n",
    "    Sorted_array=sorted(array,key=lambda x: x[0]/x[1],reverse=True)\n",
    "\n",
    "    Time=0\n",
    "    Weighted_Completition_Time=0\n",
    "    for x in Sorted_array:\n",
    "        Time+=x[1]\n",
    "        Weighted_Completition_Time+=x[0]*Time\n",
    "    return(Weighted_Completition_Time)\n",
    "\n",
    "# Applying the greedy algorithm implemented in 'Second_Greedy' to the job list in 'Array':\n",
    "\n",
    "Second_Greedy(Array)"
   ]
  },
  {
   "cell_type": "code",
   "execution_count": 4,
   "metadata": {},
   "outputs": [
    {
     "name": "stdout",
     "output_type": "stream",
     "text": [
      "Edges: 2184\n",
      "Nodes: 500\n"
     ]
    }
   ],
   "source": [
    "# LOADING THE NETWORKX GRAPH USED FOR QUESTION 3\n",
    "\n",
    "# The file 'edges.txt' describes an undirected graph with integer edge costs. This file has the format:\n",
    "# [number_of_nodes] [number_of_edges]\n",
    "# [one_node_of_edge_1] [other_node_of_edge_1] [edge_1_cost]\n",
    "# [one_node_of_edge_2] [other_node_of_edge_2] [edge_2_cost]\n",
    "\n",
    "# This file is read and loaded into a networkx graph called 'G':\n",
    "import networkx as nx\n",
    "G = nx.read_weighted_edgelist('edges.txt',nodetype=int)\n",
    "G.remove_edge(500,2184)\n",
    "G.remove_node(2184)\n",
    "print('Edges: '+str(len(G.edges(data=True))))\n",
    "print('Nodes: '+str(len(G.nodes(data=True))))"
   ]
  },
  {
   "cell_type": "code",
   "execution_count": 5,
   "metadata": {},
   "outputs": [
    {
     "name": "stdout",
     "output_type": "stream",
     "text": [
      "Overall Cost: -3612829\n"
     ]
    }
   ],
   "source": [
    "# PRISM'S ALGORITH FOR MINIMUN SPANNING TREES\n",
    "\n",
    "def prism(graph):\n",
    "    # This function implements Prim's minimum spanning tree algorithm. This is a straightforward O(mn) \n",
    "    # implementation of the algorithm, which is efficient enough for the graph considered here.\n",
    "    \n",
    "    # INPUT: A networkx graph.\n",
    "    # OUTPUT: A list where each entry in the list is a tuple of 3 components describing the edges of the minimum\n",
    "    # spanning tree. The first two entries in the tupple are the end nodes of the edge, while the weight of the \n",
    "    # edge is contained in the third entry.\n",
    "    \n",
    "    import random\n",
    "\n",
    "    s=random.choice(list(graph.nodes())) # Randomly chooses starting node\n",
    "\n",
    "    X={s} # Contains the vertices already visited\n",
    "    V=set(graph.nodes) # Contains the vertices not visited yet\n",
    "    V.remove(s)\n",
    "\n",
    "    T=[] # will contain the edges of MST\n",
    "\n",
    "    while len(X)< len(list(graph.nodes())):\n",
    "        cheapest_edgeA=min([x for x in list(graph.edges(data=True)) if x[0] in X and x[1] in V], key=lambda x: graph.get_edge_data(x[0], x[1])['weight'])\n",
    "        cheapest_edgeB=min([x for x in list(graph.edges(data=True)) if x[1] in X and x[0] in V], key=lambda x: graph.get_edge_data(x[0], x[1])['weight'])\n",
    "        if cheapest_edgeA[2]['weight']<cheapest_edgeB[2]['weight']:\n",
    "            T.append(cheapest_edgeA)\n",
    "            X.add(cheapest_edgeA[1])\n",
    "            V.remove(cheapest_edgeA[1])\n",
    "        else:\n",
    "            T.append(cheapest_edgeB)\n",
    "            X.add(cheapest_edgeB[0])\n",
    "            V.remove(cheapest_edgeB[0])       \n",
    "    return T\n",
    "\n",
    "# The function 'prism' is applied to the graph 'G' to obtain the minimum spanning tree:\n",
    "mst1=prism(G)\n",
    "\n",
    "# We are interested in the overall cost of a minimum spanning tree. This is an integer which may or may not be \n",
    "# negative:\n",
    "Overall_Cost=int(sum([x[2]['weight'] for x in mst1]))\n",
    "print('Overall Cost: '+str(Overall_Cost))"
   ]
  },
  {
   "cell_type": "code",
   "execution_count": 6,
   "metadata": {},
   "outputs": [
    {
     "name": "stdout",
     "output_type": "stream",
     "text": [
      "Overall Cost: -3612829\n"
     ]
    }
   ],
   "source": [
    "# SOLUTION USING NETWORKX\n",
    "\n",
    "# This is to check the Prim's algorithm implemented in function 'prism'. The results obtained with the later are\n",
    "# compared with the networkx implementation of the same algorithm.\n",
    "\n",
    "from networkx.algorithms import tree\n",
    "\n",
    "# Applying the networkx implementation of Prim's algorithm to the graph 'G' to obtain the minimum spanning tree:\n",
    "mst2 = tree.minimum_spanning_edges(G, algorithm=\"prim\", data=True) \n",
    "\n",
    "# Computing the overall cost of a minimum spanning tree:\n",
    "Overall_Cost=int(sum([x[2]['weight'] for x in mst2]))\n",
    "print('Overall Cost: '+str(Overall_Cost))"
   ]
  }
 ],
 "metadata": {
  "kernelspec": {
   "display_name": "Python 3",
   "language": "python",
   "name": "python3"
  },
  "language_info": {
   "codemirror_mode": {
    "name": "ipython",
    "version": 3
   },
   "file_extension": ".py",
   "mimetype": "text/x-python",
   "name": "python",
   "nbconvert_exporter": "python",
   "pygments_lexer": "ipython3",
   "version": "3.7.6"
  }
 },
 "nbformat": 4,
 "nbformat_minor": 4
}
