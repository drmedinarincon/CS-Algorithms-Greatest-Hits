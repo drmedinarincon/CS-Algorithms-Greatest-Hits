{
 "cells": [
  {
   "cell_type": "code",
   "execution_count": 1,
   "metadata": {},
   "outputs": [
    {
     "name": "stdout",
     "output_type": "stream",
     "text": [
      "Number of cities: 25\n"
     ]
    }
   ],
   "source": [
    "import matplotlib.pyplot as plt\n",
    "import numpy as np\n",
    "import networkx as nx\n",
    "import math\n",
    "\n",
    "# LOADING THE DATA\n",
    "# The coordinates of each city are loaded into the list \"list\" which has for entries [coord1,coord2] for each city.\n",
    "\n",
    "list=[]\n",
    "with open(\"tsp.txt\") as file:\n",
    "    for line in file:\n",
    "        line = line\n",
    "        list.append(line)#preprocess line\n",
    "list.pop(0)\n",
    "list=[ x.split() for x in list]\n",
    "list=[[float(x[0]),float(x[1])] for x in list]\n",
    "\n",
    "print('Number of cities: '+str(len(list)))"
   ]
  },
  {
   "cell_type": "code",
   "execution_count": 2,
   "metadata": {},
   "outputs": [
    {
     "data": {
      "image/png": "[encoded data removed]",
      "text/plain": [
       "<Figure size 432x288 with 1 Axes>"
      ]
     },
     "metadata": {
      "needs_background": "light"
     },
     "output_type": "display_data"
    }
   ],
   "source": [
    "# PLOTTING THE CITIES OF THE TRAVELLING SALESMAN PROBLEM\n",
    "\n",
    "x_coord=[ i[0] for i in list]\n",
    "y_coord=[ i[1] for i in list]\n",
    "labels = range(1,len(list)+1)\n",
    "\n",
    "fig, ax = plt.subplots()\n",
    "plt.title(r'Map of Cities for the Travelling Salesman Problem')\n",
    "ax.scatter(x_coord, y_coord)\n",
    "\n",
    "for i, txt in enumerate(labels):\n",
    "    ax.annotate(txt, (x_coord[i], y_coord[i]))"
   ]
  },
  {
   "cell_type": "code",
   "execution_count": 3,
   "metadata": {},
   "outputs": [],
   "source": [
    "# We see in the graph above that the cities can be grupped into a left and right cluster. Instead of considering\n",
    "# the 25 cities simultaneously, which would be very computally demaning, we consider the left and right clusters\n",
    "# and then join them together along the 12-13 segment.\n",
    "\n",
    "List_Left=list[:13]\n",
    "List_Right=list[11:]"
   ]
  },
  {
   "cell_type": "code",
   "execution_count": 4,
   "metadata": {},
   "outputs": [],
   "source": [
    "# USEFULL FUNCTIONS \n",
    "# This functions will be used in our code for the travelling salesman problem.\n",
    "\n",
    "def getbin(m, s=['']):\n",
    "    # This function produces all possible binary strings of length m. These binary strings will have a 1 or 0\n",
    "    # indicating the presence or absence of a city in the subset.\n",
    "    \n",
    "    # INPUT: The number m indicating the number of bits of the binary string.\n",
    "    # OUTPUT: A list with all the possible binary strings of length m.\n",
    "    if m > 0:\n",
    "        return [\n",
    "            *getbin(m - 1, [i + '0' for i in s]),\n",
    "            *getbin(m - 1, [j + '1' for j in s])\n",
    "        ]\n",
    "    return s\n",
    "\n",
    "def String_to_item_list(string):\n",
    "    # This function  takes the binary string representing the contents of a subset of cities and returns a set with\n",
    "    # the cities.\n",
    "    \n",
    "    # INPUT: A string of 1's and 0's which denotes a subsets's contents. For example \"1000101011\".\n",
    "    # OUTPUT: A set containing the indices (starting from 1) where the 1's are located. The first 1 from the left\n",
    "    # is omitted.\n",
    "    temp=set()\n",
    "    for i in range(len(string)):\n",
    "        if string[i]=='1':\n",
    "            temp.add(i+1)\n",
    "    temp.remove(1)\n",
    "    return temp\n",
    "\n",
    "def Delete_city_from_string(string,j):\n",
    "    # This function takes a binary string representing the contents of a subset of cities and removes the city j,\n",
    "    # which is equivalent to flipping the corresponding entry to 0. Then the integer of the resulting binary string\n",
    "    # is returned.\n",
    "    \n",
    "    # INPUT: A binary string and an integer j.\n",
    "    # OUTPUT: An integer representing the subset obtained after removing j from the subset represented by the\n",
    "    # string.\n",
    "    return int(string[0:j-1]+'0'+string[j:],2)"
   ]
  },
  {
   "cell_type": "code",
   "execution_count": 5,
   "metadata": {},
   "outputs": [],
   "source": [
    "# CODE FOR COMPUTING THE MINIMUN LENGTH IN THE TRAVELLING SALESMAN PROBLEM\n",
    "\n",
    "def Minimun_Length_Travelling_Salesman_Problem(List):\n",
    "    # This function computes the minimun length for the most efficient path in the travelling salesman problem.\n",
    "    # Here the path is assumed to be closed ended.\n",
    "    \n",
    "    # INPUT: A list where each entry corresponds to the coordinates [coord1,coord2] describing the location of\n",
    "    # each city.\n",
    "    # OUTPUT: A floating number given by the minimun length path in the travelling salesman problem.\n",
    "\n",
    "    n=len(List)\n",
    "\n",
    "    # The city coordinates to be used for the Travelling Salesman Problem are loaded from the input list into a \n",
    "    # dictionary called \"City_Coord\". The keys correspond to an integer number labelling the city and the values\n",
    "    # in the dictionary are 2-tuples containing the coordinates of each city.\n",
    "    City_Coord={}\n",
    "    for i in range(1,1+len(List)):\n",
    "        City_Coord[i]=np.array(List[i-1])\n",
    "\n",
    "    # The Euclidean distance between the cities are computed and stored in the dictionary \"Distance_between_Cities\".\n",
    "    # The dictionary keys are of the form (i,j) with i,j in [1,2,...,n] where n is the number of cities. \n",
    "    Distance_between_Cities={}\n",
    "    for i in City_Coord.keys():\n",
    "        for j in City_Coord.keys():\n",
    "            Distance_between_Cities[i,j]=np.linalg.norm(City_Coord[i]-City_Coord[j])\n",
    "\n",
    "    # The dictionary S_int_binary has all the subsets of S={1,2,...,n}. As a key, it has an integer value. As value\n",
    "    # it has an n-bit binary string indicating the presence (1) or absence (0) of a city in the subset.\n",
    "    Temp=[x for x in getbin(n) if x[0]=='1']\n",
    "    S_int_binary={}\n",
    "    for x in Temp:\n",
    "        S_int_binary[int(x, 2)]=x\n",
    "\n",
    "    # The dictionary S_by_size contains all subsets of S={1,2,...n} classified by the number of cities in the\n",
    "    # subset. The keys are integers in 1,...,n and the corresponding values are a list of integers labelling the\n",
    "    # subsets that contain that number of cities.\n",
    "    S_by_size={}\n",
    "    for i in range(1,n+1):\n",
    "        S_by_size[i]=[int(x, 2) for x in Temp if x.count('1')==i]\n",
    "    \n",
    "    # The dictionary S_contents stores the cities contained in each subset of S={1,2,...,n}. The dictionary keys are\n",
    "    # integers labelling each subset and the values are sets with integers labelling the cities contained. The city 1\n",
    "    # is omitted in all of this subsets as it is ever-present as the starting point of the algorithm.\n",
    "    S_contents={}\n",
    "    for i in S_int_binary.keys():\n",
    "        S_contents[i]=String_to_item_list(S_int_binary[i])\n",
    "    \n",
    "    # This is deleted to save memory\n",
    "    del Temp\n",
    "    \n",
    "    # The base cases for the dynamic programming algorithm are initialized\n",
    "    A={}\n",
    "    for i in S_int_binary.keys():\n",
    "        if i==S_by_size[1][0]:\n",
    "            A[i,1]=0\n",
    "        else:\n",
    "            A[i,1]=float(\"inf\")\n",
    "            \n",
    "    # The recursive part of the dynamic programming algorithm is implemented\n",
    "    for m in range(2,n+1):\n",
    "        for i in S_by_size[m]:   \n",
    "            for j in S_contents[i]:\n",
    "                A[i,j]=min([A[Delete_city_from_string(S_int_binary[i],j),k]+Distance_between_Cities[k,j] for k in S_contents[i].union({1}) if k!=j])\n",
    "            \n",
    "    return min([A[S_by_size[n][0],j]+Distance_between_Cities[j,1] for j in range(2,n+1)])"
   ]
  },
  {
   "cell_type": "code",
   "execution_count": 6,
   "metadata": {},
   "outputs": [
    {
     "data": {
      "text/plain": [
       "26442"
      ]
     },
     "execution_count": 6,
     "metadata": {},
     "output_type": "execute_result"
    }
   ],
   "source": [
    "# SOLUTION TO THE EXERCISE USING THE CODE ABOVE\n",
    "# Instead of computing the minimun length for the problem containin the 25 cities, which would be very consuming,\n",
    "# we split the problem into the left and right clusters. After computing the length travelled in each, we have to\n",
    "# substract twice (to avoid overcounting) the edge that they share. As requested by the problem, the answer is\n",
    "# rounded to the lowest integer value.\n",
    "math.floor(Minimun_Length_Travelling_Salesman_Problem(List_Left)+Minimun_Length_Travelling_Salesman_Problem(List_Right)-2*np.linalg.norm(np.array(List_Right[0])-np.array(List_Right[1])))"
   ]
  }
 ],
 "metadata": {
  "kernelspec": {
   "display_name": "Python 3",
   "language": "python",
   "name": "python3"
  },
  "language_info": {
   "codemirror_mode": {
    "name": "ipython",
    "version": 3
   },
   "file_extension": ".py",
   "mimetype": "text/x-python",
   "name": "python",
   "nbconvert_exporter": "python",
   "pygments_lexer": "ipython3",
   "version": "3.7.6"
  }
 },
 "nbformat": 4,
 "nbformat_minor": 4
}
