{
 "cells": [
  {
   "cell_type": "code",
   "execution_count": 1,
   "metadata": {},
   "outputs": [
    {
     "name": "stdout",
     "output_type": "stream",
     "text": [
      "Length of the array:1000000\n"
     ]
    },
    {
     "data": {
      "text/plain": [
       "array([ 68037543430, -21123414637,  56619844751, ..., -40404433171,\n",
       "        88675191155, -60012933873])"
      ]
     },
     "execution_count": 1,
     "metadata": {},
     "output_type": "execute_result"
    }
   ],
   "source": [
    "from numpy import loadtxt\n",
    "\n",
    "# LOADING A LIST OF NUMBERS TO USE LATER FOR THE 2-SUM PROBLEM\n",
    "\n",
    "# The .txt file contains 1 million integers, both positive and negative with some repetitions. The contents of\n",
    "# this file are loaded into an array called 'Ex', to which we will apply 2 algorithms later on:\n",
    "\n",
    "Ex = loadtxt(\"algo1-programming_prob-2sum.txt\", comments=\"#\", delimiter=\" \", unpack=False,dtype=int)\n",
    "print('Length of the array:'+str(len(Ex)))\n",
    "Ex"
   ]
  },
  {
   "cell_type": "code",
   "execution_count": 2,
   "metadata": {},
   "outputs": [
    {
     "name": "stdout",
     "output_type": "stream",
     "text": [
      "427\n"
     ]
    }
   ],
   "source": [
    "# ALGORITHM PROPOSED IN THE LECTURES\n",
    "\n",
    "def two_sum_problem(array):\n",
    "    # This function implements a variant of the 2-SUM algorithm. This algorithm computes the number of target\n",
    "    # values 't' in the interval [-10000,10000] such that there are distinct numbers 'x' and 'y' in the input\n",
    "    # array, called 'array', that satisfy \"x+y==t\". This implementation is more efficient than a brute force\n",
    "    # implementation because of the use of hash tables.\n",
    "    \n",
    "    # INPUT: An array labeled here as 'array'\n",
    "    # OUTPUT: And integer corresponding to the number of target values 't' described above.\n",
    "    \n",
    "    Dic = dict.fromkeys(array) # Stores all values in the input list as a dictionary\n",
    "    t_values={} # Stores as key in a dictionaRy all the valid 't' obtained as 2-sum that are in the [-10000,10000]\n",
    "    # interval \n",
    "\n",
    "    for t in range(-10000,10001):\n",
    "        for x in Dic.keys():\n",
    "            if t-x in Dic and t-x!=x:\n",
    "                t_values[t]=None\n",
    "    return len(t_values.keys())\n",
    "\n",
    "# The function 'two_sum_problem' is applied to the array 'Ex':\n",
    "\n",
    "print(two_sum_problem(Ex))"
   ]
  },
  {
   "cell_type": "code",
   "execution_count": null,
   "metadata": {},
   "outputs": [],
   "source": [
    "# BRUTE FORCE RUNNING O(n^2)\n",
    "\n",
    "# This takes a long time, specially for n>10000\n",
    "\n",
    "def two_sum_problem_n2(array):\n",
    "    # This function corresponds to a brute force approach to the 2-SUM problem and consequently it is very slow.\n",
    "    # This algorithm computes the number of target values 't' in the interval [-10000,10000] such that there are\n",
    "    # distinct numbers 'x' and 'y' in the input array, called 'array', that satisfy \"x+y==t\"\n",
    "    \n",
    "    # INPUT: An array labeled here as 'array'\n",
    "    # OUTPUT: And integer corresponding to the number of target values 't' described above.\n",
    "\n",
    "    keys=range(-10000,10001)\n",
    "    Dic = dict.fromkeys(keys,0) #This dictionary has as keys all the possible t's with value 1 if there is a pair\n",
    "    # in the array that can add up to it. If not, the value assigned is 0.\n",
    "\n",
    "    for x in array:\n",
    "        for y in array:\n",
    "            if (x+y in Dic) and (Dic[x+y]==0) and x!=y:\n",
    "                Dic[x+y]=1 \n",
    "\n",
    "    return sum(Dic.values())\n",
    "\n",
    "# The function 'two_sum_problem_n2' is applied to the array 'Ex':\n",
    "\n",
    "print(two_sum_problem_n2(Ex))"
   ]
  },
  {
   "cell_type": "code",
   "execution_count": null,
   "metadata": {},
   "outputs": [],
   "source": [
    "list(filter(lambda x: x>avg,data))"
   ]
  }
 ],
 "metadata": {
  "kernelspec": {
   "display_name": "Python 3",
   "language": "python",
   "name": "python3"
  },
  "language_info": {
   "codemirror_mode": {
    "name": "ipython",
    "version": 3
   },
   "file_extension": ".py",
   "mimetype": "text/x-python",
   "name": "python",
   "nbconvert_exporter": "python",
   "pygments_lexer": "ipython3",
   "version": "3.7.6"
  }
 },
 "nbformat": 4,
 "nbformat_minor": 4
}
