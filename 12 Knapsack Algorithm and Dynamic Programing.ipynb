{
 "cells": [
  {
   "cell_type": "code",
   "execution_count": 1,
   "metadata": {},
   "outputs": [
    {
     "name": "stdout",
     "output_type": "stream",
     "text": [
      "Lenght of file 1: 100\n",
      "Lenght of file 2: 2000\n"
     ]
    }
   ],
   "source": [
    "# Opens the files and stores them in a list with the entries in the format: [value,weight]\n",
    "# Two files are considered for this exercise. Their contents are stored in the lists \"List1\" and \"List2\".\n",
    "# The knapsack size of the respective problems are \"knapsack_size1\" and \"knapsack_size2\".\n",
    "\n",
    "a_file = open(\"knapsack1.txt\", \"r\")\n",
    "List1 = [(line.strip()).split() for line in a_file]\n",
    "a_file.close()\n",
    "List1=[ list(map(int, x)) for x in List1]\n",
    "knapsack_size1=List1[0][0]\n",
    "List1.pop(0)\n",
    "print(\"Lenght of file 1: \"+str(len(List1)))\n",
    "\n",
    "b_file = open(\"knapsack_big.txt\", \"r\")\n",
    "List2 = [(line.strip()).split() for line in b_file]\n",
    "b_file.close()\n",
    "List2=[ list(map(int, x)) for x in List2]\n",
    "knapsack_size2=List2[0][0]\n",
    "List2.pop(0)\n",
    "print(\"Lenght of file 2: \"+str(len(List2)))"
   ]
  },
  {
   "cell_type": "code",
   "execution_count": 2,
   "metadata": {},
   "outputs": [],
   "source": [
    "# CODE FOR THE KNAPSACK ALGORITHM\n",
    "# Based on the dynamic programming approach.\n",
    "\n",
    "def Knapsack_MaxValue(W,list):\n",
    "    # This function computes the maximun value for the optimal solution of the knapsack problem given a list of \n",
    "    # items and a knapsack size W.\n",
    "    \n",
    "    # INPUT: a list ith entries [value,weight] for each item and W the knapsack size\n",
    "    # OUTPUT: The maximun value contained in the sack in the optimal solution\n",
    "    \n",
    "    n=len(list)\n",
    "\n",
    "    # Creating the dictionaries for the values v and weights w of each item\n",
    "    v={}\n",
    "    w={}\n",
    "    for i in range(n):\n",
    "        v[i+1]=list[i][0]\n",
    "        w[i+1]=list[i][1]\n",
    "\n",
    "    # Initializing A[0,x]\n",
    "    A={}\n",
    "    for x in range(W+1):\n",
    "        A[(0,x)]=0\n",
    "\n",
    "    # Running the recursive part of the algorithm to find the Maximun Value\n",
    "    for i in range(1,n+1):\n",
    "        for x in range(W+1):\n",
    "            if x-w[i]>=0:\n",
    "                A[(i,x)]=max(A[(i-1,x)],A[(i-1,x-w[i])]+v[i])\n",
    "            else:\n",
    "                A[(i,x)]=A[(i-1,x)]\n",
    "        for x in range(W+1):\n",
    "            A.pop((i-1,x))\n",
    "            \n",
    "    return A[(n,W)]\n",
    "\n",
    "def Knapsack_Set(W,list):\n",
    "    # This function obtains the list of items contained in the optimal solution for the knapsack problem given a\n",
    "    # list of items and a knapsack size W.\n",
    "    \n",
    "    # INPUT: a list ith entries [value,weight] for each item and W, the knapsack size\n",
    "    # OUTPUT: The set of items contained in the sack for the optimal solution maximizing the value in the sack.\n",
    "    \n",
    "    n=len(list)\n",
    "    \n",
    "    # Creating the dictionaries for the values v and weights w of each item\n",
    "    v={}\n",
    "    w={}\n",
    "    for i in range(n):\n",
    "        v[i+1]=list[i][0]\n",
    "        w[i+1]=list[i][1]\n",
    "\n",
    "    # Initializing A[0,x]\n",
    "    A={}\n",
    "    for x in range(W+1):\n",
    "        A[(0,x)]=0\n",
    "\n",
    "    # Running the recursive part of the algorithm to find the Maximun Value\n",
    "    for i in range(1,n+1):\n",
    "        for x in range(W+1):\n",
    "            if x-w[i]>=0:\n",
    "                A[(i,x)]=max(A[(i-1,x)],A[(i-1,x-w[i])]+v[i])\n",
    "            else:\n",
    "                A[(i,x)]=A[(i-1,x)]\n",
    "    \n",
    "    # Reconstruction algorithm to find the set of items that produce the Maximun Value\n",
    "    Answer=set({})\n",
    "    LastValue=W\n",
    "    for i in reversed(range(1,n+1)):\n",
    "        if A[(i,LastValue)]> A[(i-1,LastValue)] and LastValue>0:\n",
    "            Answer.update({i})\n",
    "            LastValue-=w[i]\n",
    "    \n",
    "    return Answer"
   ]
  },
  {
   "cell_type": "code",
   "execution_count": 3,
   "metadata": {},
   "outputs": [
    {
     "name": "stdout",
     "output_type": "stream",
     "text": [
      "Max Value: 8\n",
      "Items: {3, 4}\n"
     ]
    }
   ],
   "source": [
    "# CHECK WITH TEST FROM THE LECTURES\n",
    "\n",
    "Lista=[[3,4],[2,3],[4,2],[4,3]]\n",
    "print(\"Max Value: \"+str(Knapsack_MaxValue(6,Lista)))\n",
    "print(\"Items: \"+str(Knapsack_Set(6,Lista)))"
   ]
  },
  {
   "cell_type": "code",
   "execution_count": 4,
   "metadata": {},
   "outputs": [
    {
     "data": {
      "text/plain": [
       "2493893"
      ]
     },
     "execution_count": 4,
     "metadata": {},
     "output_type": "execute_result"
    }
   ],
   "source": [
    "# QUESTION 1 - KNAPSACK ALGORITHM APPLIED TO FILE 1\n",
    "\n",
    "Knapsack_MaxValue(knapsack_size1,List1)"
   ]
  },
  {
   "cell_type": "code",
   "execution_count": null,
   "metadata": {},
   "outputs": [],
   "source": [
    "# QUESTION 2 - KNAPSACK ALGORITHM APPLIED TO FILE 2\n",
    "\n",
    "Knapsack_MaxValue(knapsack_size2,List2)"
   ]
  }
 ],
 "metadata": {
  "kernelspec": {
   "display_name": "Python 3",
   "language": "python",
   "name": "python3"
  },
  "language_info": {
   "codemirror_mode": {
    "name": "ipython",
    "version": 3
   },
   "file_extension": ".py",
   "mimetype": "text/x-python",
   "name": "python",
   "nbconvert_exporter": "python",
   "pygments_lexer": "ipython3",
   "version": "3.7.6"
  }
 },
 "nbformat": 4,
 "nbformat_minor": 4
}
